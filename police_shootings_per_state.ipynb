{
  "nbformat": 4,
  "nbformat_minor": 0,
  "metadata": {
    "colab": {
      "name": "police_shootings_per_state.ipynb",
      "provenance": [],
      "collapsed_sections": []
    },
    "kernelspec": {
      "name": "python3",
      "display_name": "Python 3"
    }
  },
  "cells": [
    {
      "cell_type": "code",
      "metadata": {
        "id": "z_nPY1g3sjum",
        "colab_type": "code",
        "colab": {
          "base_uri": "https://localhost:8080/",
          "height": 122
        },
        "outputId": "ff17555d-80d3-4b2b-c741-d39f3936fb6e"
      },
      "source": [
        "\n",
        "from google.colab import drive\n",
        "drive.mount('/gdrive')"
      ],
      "execution_count": null,
      "outputs": [
        {
          "output_type": "stream",
          "text": [
            "Go to this URL in a browser: https://accounts.google.com/o/oauth2/auth?client_id=947318989803-6bn6qk8qdgf4n4g3pfee6491hc0brc4i.apps.googleusercontent.com&redirect_uri=urn%3aietf%3awg%3aoauth%3a2.0%3aoob&response_type=code&scope=email%20https%3a%2f%2fwww.googleapis.com%2fauth%2fdocs.test%20https%3a%2f%2fwww.googleapis.com%2fauth%2fdrive%20https%3a%2f%2fwww.googleapis.com%2fauth%2fdrive.photos.readonly%20https%3a%2f%2fwww.googleapis.com%2fauth%2fpeopleapi.readonly\n",
            "\n",
            "Enter your authorization code:\n",
            "··········\n",
            "Mounted at /gdrive\n"
          ],
          "name": "stdout"
        }
      ]
    },
    {
      "cell_type": "code",
      "metadata": {
        "id": "pOqfdOkesn1r",
        "colab_type": "code",
        "colab": {}
      },
      "source": [
        "import pandas as pd"
      ],
      "execution_count": null,
      "outputs": []
    },
    {
      "cell_type": "code",
      "metadata": {
        "id": "qSR2Jk34sn4Q",
        "colab_type": "code",
        "colab": {
          "base_uri": "https://localhost:8080/",
          "height": 197
        },
        "outputId": "60523be8-f792-4ccd-a6c8-0bb9da13eb3d"
      },
      "source": [
        "missing_values  = [\"???\", \"Unknown\", \"UNKNOWN\", \"N/A\",\"NaN\"]\n",
        "df= pd.read_csv(\"/gdrive/My Drive/Colab Notebooks/FINAL ESSAY/shootings.csv\", sep=';',na_values= missing_values)\n",
        "df.head()"
      ],
      "execution_count": null,
      "outputs": [
        {
          "output_type": "execute_result",
          "data": {
            "text/html": [
              "<div>\n",
              "<style scoped>\n",
              "    .dataframe tbody tr th:only-of-type {\n",
              "        vertical-align: middle;\n",
              "    }\n",
              "\n",
              "    .dataframe tbody tr th {\n",
              "        vertical-align: top;\n",
              "    }\n",
              "\n",
              "    .dataframe thead th {\n",
              "        text-align: right;\n",
              "    }\n",
              "</style>\n",
              "<table border=\"1\" class=\"dataframe\">\n",
              "  <thead>\n",
              "    <tr style=\"text-align: right;\">\n",
              "      <th></th>\n",
              "      <th>Date</th>\n",
              "      <th>Name</th>\n",
              "      <th>Age</th>\n",
              "      <th>Gender</th>\n",
              "      <th>Race</th>\n",
              "      <th>State</th>\n",
              "      <th>*</th>\n",
              "      <th>Source</th>\n",
              "    </tr>\n",
              "  </thead>\n",
              "  <tbody>\n",
              "    <tr>\n",
              "      <th>0</th>\n",
              "      <td>1/1/2020</td>\n",
              "      <td>Derrick A. Elseth</td>\n",
              "      <td>24.0</td>\n",
              "      <td>M</td>\n",
              "      <td>W</td>\n",
              "      <td>Virginia</td>\n",
              "      <td>G</td>\n",
              "      <td>wric.com, nbc12.com</td>\n",
              "    </tr>\n",
              "    <tr>\n",
              "      <th>1</th>\n",
              "      <td>1/1/2020</td>\n",
              "      <td>Teddy James Maverick Varner</td>\n",
              "      <td>29.0</td>\n",
              "      <td>M</td>\n",
              "      <td>NaN</td>\n",
              "      <td>Oregon</td>\n",
              "      <td>G</td>\n",
              "      <td>kobi5.com, kdrv.com, kdrv.com</td>\n",
              "    </tr>\n",
              "    <tr>\n",
              "      <th>2</th>\n",
              "      <td>1/1/2020</td>\n",
              "      <td>Gerardo Antonio Conchas-Bustas</td>\n",
              "      <td>20.0</td>\n",
              "      <td>M</td>\n",
              "      <td>O</td>\n",
              "      <td>Colorado</td>\n",
              "      <td>K</td>\n",
              "      <td>denverpost.com, kdvr.com</td>\n",
              "    </tr>\n",
              "    <tr>\n",
              "      <th>3</th>\n",
              "      <td>1/1/2020</td>\n",
              "      <td>Gabriel Strickland</td>\n",
              "      <td>25.0</td>\n",
              "      <td>M</td>\n",
              "      <td>W</td>\n",
              "      <td>California</td>\n",
              "      <td>T</td>\n",
              "      <td>sacbee.com</td>\n",
              "    </tr>\n",
              "    <tr>\n",
              "      <th>4</th>\n",
              "      <td>2/1/2020</td>\n",
              "      <td>Jeffery Dale Millsap</td>\n",
              "      <td>26.0</td>\n",
              "      <td>M</td>\n",
              "      <td>W</td>\n",
              "      <td>Missouri</td>\n",
              "      <td>G</td>\n",
              "      <td>kansascity.com, kctv5.com</td>\n",
              "    </tr>\n",
              "  </tbody>\n",
              "</table>\n",
              "</div>"
            ],
            "text/plain": [
              "       Date                            Name  ...  *                         Source\n",
              "0  1/1/2020               Derrick A. Elseth  ...  G            wric.com, nbc12.com\n",
              "1  1/1/2020     Teddy James Maverick Varner  ...  G  kobi5.com, kdrv.com, kdrv.com\n",
              "2  1/1/2020  Gerardo Antonio Conchas-Bustas  ...  K       denverpost.com, kdvr.com\n",
              "3  1/1/2020              Gabriel Strickland  ...  T                     sacbee.com\n",
              "4  2/1/2020            Jeffery Dale Millsap  ...  G      kansascity.com, kctv5.com\n",
              "\n",
              "[5 rows x 8 columns]"
            ]
          },
          "metadata": {
            "tags": []
          },
          "execution_count": 7
        }
      ]
    },
    {
      "cell_type": "code",
      "metadata": {
        "id": "vriah6zR7_hF",
        "colab_type": "code",
        "colab": {
          "base_uri": "https://localhost:8080/",
          "height": 904
        },
        "outputId": "e93f54ef-5625-4a24-d44d-8a89edfb5143"
      },
      "source": [
        "df['State'].value_counts()"
      ],
      "execution_count": null,
      "outputs": [
        {
          "output_type": "execute_result",
          "data": {
            "text/plain": [
              "California        789\n",
              "Texas             477\n",
              "Florida           347\n",
              "Arizona           332\n",
              "Colorado          192\n",
              "Georgia           181\n",
              "Washington        165\n",
              "Oklahoma          162\n",
              "North Carolina    155\n",
              "Ohio              154\n",
              "Missouri          139\n",
              "Tennessee         137\n",
              "Louisiana         108\n",
              "Pennsylvania      108\n",
              "Nevada            105\n",
              "New Mexico        105\n",
              "Illinois          103\n",
              "Alabama           103\n",
              "New York           98\n",
              "Virginia           95\n",
              "Kentucky           94\n",
              "Indiana            94\n",
              "Wisconsin          91\n",
              "Oregon             88\n",
              "South Carolina     86\n",
              "Maryland           79\n",
              "Michigan           78\n",
              "New Jersey         66\n",
              "MIssissippi        65\n",
              "Minnesota          61\n",
              "Utah               60\n",
              "West Virginia      54\n",
              "Kansas             48\n",
              "Idaho              41\n",
              "Alaska             37\n",
              "Massachussets      35\n",
              "Iowa               32\n",
              "Montana            30\n",
              "Hawaii             30\n",
              "Nebraska           24\n",
              "Maine              22\n",
              "Connecticut        21\n",
              "South Dakota       16\n",
              "Wyoming            14\n",
              "New Hampshire      13\n",
              "Delaware           13\n",
              "Vermont             9\n",
              "Rhode Island        4\n",
              "Arkansas            3\n",
              "North Dakota        2\n",
              "Mississippi         1\n",
              "Name: State, dtype: int64"
            ]
          },
          "metadata": {
            "tags": []
          },
          "execution_count": 8
        }
      ]
    },
    {
      "cell_type": "code",
      "metadata": {
        "id": "Zxn0N6BR6liH",
        "colab_type": "code",
        "colab": {
          "base_uri": "https://localhost:8080/",
          "height": 880
        },
        "outputId": "d39d4ce7-5126-487c-b654-b3e1eeff75a6"
      },
      "source": [
        "df['State'].value_counts(ascending=True).plot(kind='barh', figsize= (10,15), color= 'm')"
      ],
      "execution_count": null,
      "outputs": [
        {
          "output_type": "execute_result",
          "data": {
            "text/plain": [
              "<matplotlib.axes._subplots.AxesSubplot at 0x7f485cdee4a8>"
            ]
          },
          "metadata": {
            "tags": []
          },
          "execution_count": 5
        },
        {
          "output_type": "display_data",
          "data": {
            "image/png": "[encoded data removed]",
            "text/plain": [
              "<Figure size 720x1080 with 1 Axes>"
            ]
          },
          "metadata": {
            "tags": [],
            "needs_background": "light"
          }
        }
      ]
    },
    {
      "cell_type": "code",
      "metadata": {
        "id": "KbI9l8qC6lkh",
        "colab_type": "code",
        "colab": {
          "base_uri": "https://localhost:8080/",
          "height": 170
        },
        "outputId": "125d7440-3dcb-4b85-8c3b-9281c950f659"
      },
      "source": [
        "df.dtypes"
      ],
      "execution_count": null,
      "outputs": [
        {
          "output_type": "execute_result",
          "data": {
            "text/plain": [
              "Date      object\n",
              "Name      object\n",
              "Age       object\n",
              "Gender    object\n",
              "Race      object\n",
              "State     object\n",
              "*         object\n",
              "Source    object\n",
              "dtype: object"
            ]
          },
          "metadata": {
            "tags": []
          },
          "execution_count": 6
        }
      ]
    },
    {
      "cell_type": "code",
      "metadata": {
        "id": "x7qWatmK6lph",
        "colab_type": "code",
        "colab": {
          "base_uri": "https://localhost:8080/",
          "height": 153
        },
        "outputId": "a195f4cf-66d6-4f66-f427-54c1effb3236"
      },
      "source": [
        "%%time\n",
        "pd.to_datetime(df['Date']).head()"
      ],
      "execution_count": null,
      "outputs": [
        {
          "output_type": "stream",
          "text": [
            "CPU times: user 112 ms, sys: 0 ns, total: 112 ms\n",
            "Wall time: 114 ms\n"
          ],
          "name": "stdout"
        },
        {
          "output_type": "execute_result",
          "data": {
            "text/plain": [
              "0   2020-01-01\n",
              "1   2020-01-01\n",
              "2   2020-01-01\n",
              "3   2020-01-01\n",
              "4   2020-02-01\n",
              "Name: Date, dtype: datetime64[ns]"
            ]
          },
          "metadata": {
            "tags": []
          },
          "execution_count": 10
        }
      ]
    },
    {
      "cell_type": "code",
      "metadata": {
        "id": "HX_OFMd7DMWZ",
        "colab_type": "code",
        "colab": {
          "base_uri": "https://localhost:8080/",
          "height": 153
        },
        "outputId": "33413f08-ea83-4cae-fd9f-3efe8e0ea834"
      },
      "source": [
        "%%time\n",
        "pd.to_datetime(df['Date'], format='%d/%m/%Y').head() "
      ],
      "execution_count": null,
      "outputs": [
        {
          "output_type": "stream",
          "text": [
            "CPU times: user 7.44 ms, sys: 2.11 ms, total: 9.55 ms\n",
            "Wall time: 13 ms\n"
          ],
          "name": "stdout"
        },
        {
          "output_type": "execute_result",
          "data": {
            "text/plain": [
              "0   2020-01-01\n",
              "1   2020-01-01\n",
              "2   2020-01-01\n",
              "3   2020-01-01\n",
              "4   2020-01-02\n",
              "Name: Date, dtype: datetime64[ns]"
            ]
          },
          "metadata": {
            "tags": []
          },
          "execution_count": 13
        }
      ]
    },
    {
      "cell_type": "code",
      "metadata": {
        "id": "SY5l4Nyo6ln7",
        "colab_type": "code",
        "colab": {
          "base_uri": "https://localhost:8080/",
          "height": 221
        },
        "outputId": "25c821de-76d9-45cc-eadf-cae822be87c1"
      },
      "source": [
        "df['date'] = pd.to_datetime(df['Date'], format='%d/%m/%Y')  #Add new column 'date' to dataframe as datetime \n",
        "df['date']"
      ],
      "execution_count": null,
      "outputs": [
        {
          "output_type": "execute_result",
          "data": {
            "text/plain": [
              "0      2020-01-01\n",
              "1      2020-01-01\n",
              "2      2020-01-01\n",
              "3      2020-01-01\n",
              "4      2020-01-02\n",
              "          ...    \n",
              "5361   2015-12-29\n",
              "5362   2015-12-29\n",
              "5363   2015-12-30\n",
              "5364   2015-12-30\n",
              "5365   2015-12-31\n",
              "Name: date, Length: 5366, dtype: datetime64[ns]"
            ]
          },
          "metadata": {
            "tags": []
          },
          "execution_count": 15
        }
      ]
    },
    {
      "cell_type": "code",
      "metadata": {
        "id": "irN1iFUSDYlF",
        "colab_type": "code",
        "colab": {
          "base_uri": "https://localhost:8080/",
          "height": 187
        },
        "outputId": "e1c3c564-de6b-4928-dee5-d4491553a9b0"
      },
      "source": [
        "df.dtypes"
      ],
      "execution_count": null,
      "outputs": [
        {
          "output_type": "execute_result",
          "data": {
            "text/plain": [
              "Date              object\n",
              "Name              object\n",
              "Age              float64\n",
              "Gender            object\n",
              "Race              object\n",
              "State             object\n",
              "*                 object\n",
              "Source            object\n",
              "date      datetime64[ns]\n",
              "dtype: object"
            ]
          },
          "metadata": {
            "tags": []
          },
          "execution_count": 17
        }
      ]
    },
    {
      "cell_type": "code",
      "metadata": {
        "id": "3NdnIWY4DeE9",
        "colab_type": "code",
        "colab": {}
      },
      "source": [
        "#Set date as index\n",
        "df.set_index(['date'] , inplace=True)"
      ],
      "execution_count": null,
      "outputs": []
    },
    {
      "cell_type": "code",
      "metadata": {
        "id": "G7fRz6cSDeIV",
        "colab_type": "code",
        "colab": {
          "base_uri": "https://localhost:8080/",
          "height": 435
        },
        "outputId": "a832777a-72a4-45df-8d82-04358f2b1dd1"
      },
      "source": [
        "df"
      ],
      "execution_count": null,
      "outputs": [
        {
          "output_type": "execute_result",
          "data": {
            "text/html": [
              "<div>\n",
              "<style scoped>\n",
              "    .dataframe tbody tr th:only-of-type {\n",
              "        vertical-align: middle;\n",
              "    }\n",
              "\n",
              "    .dataframe tbody tr th {\n",
              "        vertical-align: top;\n",
              "    }\n",
              "\n",
              "    .dataframe thead th {\n",
              "        text-align: right;\n",
              "    }\n",
              "</style>\n",
              "<table border=\"1\" class=\"dataframe\">\n",
              "  <thead>\n",
              "    <tr style=\"text-align: right;\">\n",
              "      <th></th>\n",
              "      <th>Date</th>\n",
              "      <th>Name</th>\n",
              "      <th>Age</th>\n",
              "      <th>Gender</th>\n",
              "      <th>Race</th>\n",
              "      <th>State</th>\n",
              "      <th>*</th>\n",
              "      <th>Source</th>\n",
              "    </tr>\n",
              "    <tr>\n",
              "      <th>date</th>\n",
              "      <th></th>\n",
              "      <th></th>\n",
              "      <th></th>\n",
              "      <th></th>\n",
              "      <th></th>\n",
              "      <th></th>\n",
              "      <th></th>\n",
              "      <th></th>\n",
              "    </tr>\n",
              "  </thead>\n",
              "  <tbody>\n",
              "    <tr>\n",
              "      <th>2020-01-01</th>\n",
              "      <td>1/1/2020</td>\n",
              "      <td>Derrick A. Elseth</td>\n",
              "      <td>24.0</td>\n",
              "      <td>M</td>\n",
              "      <td>W</td>\n",
              "      <td>Virginia</td>\n",
              "      <td>G</td>\n",
              "      <td>wric.com, nbc12.com</td>\n",
              "    </tr>\n",
              "    <tr>\n",
              "      <th>2020-01-01</th>\n",
              "      <td>1/1/2020</td>\n",
              "      <td>Teddy James Maverick Varner</td>\n",
              "      <td>29.0</td>\n",
              "      <td>M</td>\n",
              "      <td>NaN</td>\n",
              "      <td>Oregon</td>\n",
              "      <td>G</td>\n",
              "      <td>kobi5.com, kdrv.com, kdrv.com</td>\n",
              "    </tr>\n",
              "    <tr>\n",
              "      <th>2020-01-01</th>\n",
              "      <td>1/1/2020</td>\n",
              "      <td>Gerardo Antonio Conchas-Bustas</td>\n",
              "      <td>20.0</td>\n",
              "      <td>M</td>\n",
              "      <td>O</td>\n",
              "      <td>Colorado</td>\n",
              "      <td>K</td>\n",
              "      <td>denverpost.com, kdvr.com</td>\n",
              "    </tr>\n",
              "    <tr>\n",
              "      <th>2020-01-01</th>\n",
              "      <td>1/1/2020</td>\n",
              "      <td>Gabriel Strickland</td>\n",
              "      <td>25.0</td>\n",
              "      <td>M</td>\n",
              "      <td>W</td>\n",
              "      <td>California</td>\n",
              "      <td>T</td>\n",
              "      <td>sacbee.com</td>\n",
              "    </tr>\n",
              "    <tr>\n",
              "      <th>2020-01-02</th>\n",
              "      <td>2/1/2020</td>\n",
              "      <td>Jeffery Dale Millsap</td>\n",
              "      <td>26.0</td>\n",
              "      <td>M</td>\n",
              "      <td>W</td>\n",
              "      <td>Missouri</td>\n",
              "      <td>G</td>\n",
              "      <td>kansascity.com, kctv5.com</td>\n",
              "    </tr>\n",
              "    <tr>\n",
              "      <th>...</th>\n",
              "      <td>...</td>\n",
              "      <td>...</td>\n",
              "      <td>...</td>\n",
              "      <td>...</td>\n",
              "      <td>...</td>\n",
              "      <td>...</td>\n",
              "      <td>...</td>\n",
              "      <td>...</td>\n",
              "    </tr>\n",
              "    <tr>\n",
              "      <th>2015-12-29</th>\n",
              "      <td>29/12/2015</td>\n",
              "      <td>Siolosega Velega-Nuufolau</td>\n",
              "      <td>50.0</td>\n",
              "      <td>F</td>\n",
              "      <td>O</td>\n",
              "      <td>California</td>\n",
              "      <td>K</td>\n",
              "      <td>fresnobee.com</td>\n",
              "    </tr>\n",
              "    <tr>\n",
              "      <th>2015-12-29</th>\n",
              "      <td>29/12/2015</td>\n",
              "      <td>Tien Hua</td>\n",
              "      <td>NaN</td>\n",
              "      <td>M</td>\n",
              "      <td>A</td>\n",
              "      <td>California</td>\n",
              "      <td>O</td>\n",
              "      <td>nbclosangeles.com, abc7.com</td>\n",
              "    </tr>\n",
              "    <tr>\n",
              "      <th>2015-12-30</th>\n",
              "      <td>30/12/2015</td>\n",
              "      <td>Fred Perez</td>\n",
              "      <td>55.0</td>\n",
              "      <td>M</td>\n",
              "      <td>H</td>\n",
              "      <td>California</td>\n",
              "      <td>K</td>\n",
              "      <td>abc30.com, yourcentralvalley.com</td>\n",
              "    </tr>\n",
              "    <tr>\n",
              "      <th>2015-12-30</th>\n",
              "      <td>30/12/2015</td>\n",
              "      <td>John Randell Veach</td>\n",
              "      <td>39.0</td>\n",
              "      <td>M</td>\n",
              "      <td>NaN</td>\n",
              "      <td>Wyoming</td>\n",
              "      <td>U</td>\n",
              "      <td>rawlinstimes.com</td>\n",
              "    </tr>\n",
              "    <tr>\n",
              "      <th>2015-12-31</th>\n",
              "      <td>31/12/2015</td>\n",
              "      <td>Keith Childress</td>\n",
              "      <td>23.0</td>\n",
              "      <td>M</td>\n",
              "      <td>B</td>\n",
              "      <td>Nevada</td>\n",
              "      <td>N</td>\n",
              "      <td>lasvegassun.com, lasvegassun.com</td>\n",
              "    </tr>\n",
              "  </tbody>\n",
              "</table>\n",
              "<p>5366 rows × 8 columns</p>\n",
              "</div>"
            ],
            "text/plain": [
              "                  Date  ...                            Source\n",
              "date                    ...                                  \n",
              "2020-01-01    1/1/2020  ...               wric.com, nbc12.com\n",
              "2020-01-01    1/1/2020  ...     kobi5.com, kdrv.com, kdrv.com\n",
              "2020-01-01    1/1/2020  ...          denverpost.com, kdvr.com\n",
              "2020-01-01    1/1/2020  ...                        sacbee.com\n",
              "2020-01-02    2/1/2020  ...         kansascity.com, kctv5.com\n",
              "...                ...  ...                               ...\n",
              "2015-12-29  29/12/2015  ...                     fresnobee.com\n",
              "2015-12-29  29/12/2015  ...       nbclosangeles.com, abc7.com\n",
              "2015-12-30  30/12/2015  ...  abc30.com, yourcentralvalley.com\n",
              "2015-12-30  30/12/2015  ...                  rawlinstimes.com\n",
              "2015-12-31  31/12/2015  ...  lasvegassun.com, lasvegassun.com\n",
              "\n",
              "[5366 rows x 8 columns]"
            ]
          },
          "metadata": {
            "tags": []
          },
          "execution_count": 19
        }
      ]
    },
    {
      "cell_type": "code",
      "metadata": {
        "id": "s9ahFuonD0XU",
        "colab_type": "code",
        "colab": {}
      },
      "source": [
        "import matplotlib.pyplot as plt\n"
      ],
      "execution_count": null,
      "outputs": []
    },
    {
      "cell_type": "code",
      "metadata": {
        "id": "GkCjYCKnDeLI",
        "colab_type": "code",
        "colab": {
          "base_uri": "https://localhost:8080/",
          "height": 513
        },
        "outputId": "316870e1-fe74-4c38-b28d-9c38e50083c3"
      },
      "source": [
        "#Mean of age of people since 2015 \n",
        "\n",
        "df['Age'].resample('A').mean().plot(color='r',figsize=(10,8))\n",
        "plt.xlabel(\"Date \")\n",
        "plt.ylabel(\"Age\")\n",
        "plt.title(\"Mean Age of victims per State\")\n",
        "plt.legend()\n",
        "plt.savefig(\"/gdrive/My Drive/Colab Notebooks/mean_Age_per_state.png\",transparent= True,bbox_inches= 'tight')"
      ],
      "execution_count": null,
      "outputs": [
        {
          "output_type": "display_data",
          "data": {
            "image/png": "[encoded data removed]",
            "text/plain": [
              "<Figure size 720x576 with 1 Axes>"
            ]
          },
          "metadata": {
            "tags": [],
            "needs_background": "light"
          }
        }
      ]
    }
  ]
}