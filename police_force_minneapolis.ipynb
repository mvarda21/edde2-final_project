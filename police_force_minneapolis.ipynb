{
  "nbformat": 4,
  "nbformat_minor": 0,
  "metadata": {
    "colab": {
      "name": "police_force_minneapolis.ipynb",
      "provenance": [],
      "collapsed_sections": []
    },
    "kernelspec": {
      "name": "python3",
      "display_name": "Python 3"
    }
  },
  "cells": [
    {
      "cell_type": "code",
      "metadata": {
        "id": "p505IO4chcmq",
        "colab_type": "code",
        "colab": {}
      },
      "source": [
        "import pandas as pd\n",
        "import matplotlib.pyplot as plt\n",
        "from matplotlib.ticker import StrMethodFormatter\n",
        "import seaborn as sns\n",
        "\n",
        "%matplotlib inline"
      ],
      "execution_count": null,
      "outputs": []
    },
    {
      "cell_type": "code",
      "metadata": {
        "id": "UWglHZhaiaO8",
        "colab_type": "code",
        "colab": {
          "base_uri": "https://localhost:8080/",
          "height": 34
        },
        "outputId": "fbcbed38-4dcb-4ace-d088-068ac76099f6"
      },
      "source": [
        "from google.colab import drive\n",
        "drive.mount('/gdrive')"
      ],
      "execution_count": null,
      "outputs": [
        {
          "output_type": "stream",
          "text": [
            "Drive already mounted at /gdrive; to attempt to forcibly remount, call drive.mount(\"/gdrive\", force_remount=True).\n"
          ],
          "name": "stdout"
        }
      ]
    },
    {
      "cell_type": "code",
      "metadata": {
        "id": "2Tp_tWI0iaUQ",
        "colab_type": "code",
        "colab": {
          "base_uri": "https://localhost:8080/",
          "height": 370
        },
        "outputId": "5f0b6366-a64a-4901-89c3-4c7bb7b4a133"
      },
      "source": [
        "missing_values  = [\"???\", \"Unknown\", \"UNKNOWN\", \"N/A\",\"NaN\"]\n",
        "df= pd.read_csv(\"/gdrive/My Drive/Colab Notebooks/FINAL ESSAY/Police_Use_of_Force.csv\",na_values= missing_values)\n",
        "df.head(5)"
      ],
      "execution_count": null,
      "outputs": [
        {
          "output_type": "execute_result",
          "data": {
            "text/html": [
              "<div>\n",
              "<style scoped>\n",
              "    .dataframe tbody tr th:only-of-type {\n",
              "        vertical-align: middle;\n",
              "    }\n",
              "\n",
              "    .dataframe tbody tr th {\n",
              "        vertical-align: top;\n",
              "    }\n",
              "\n",
              "    .dataframe thead th {\n",
              "        text-align: right;\n",
              "    }\n",
              "</style>\n",
              "<table border=\"1\" class=\"dataframe\">\n",
              "  <thead>\n",
              "    <tr style=\"text-align: right;\">\n",
              "      <th></th>\n",
              "      <th>X</th>\n",
              "      <th>Y</th>\n",
              "      <th>PoliceUseOfForceID</th>\n",
              "      <th>CaseNumber</th>\n",
              "      <th>ResponseDate</th>\n",
              "      <th>Problem</th>\n",
              "      <th>Is911Call</th>\n",
              "      <th>PrimaryOffense</th>\n",
              "      <th>SubjectInjury</th>\n",
              "      <th>ForceReportNumber</th>\n",
              "      <th>SubjectRole</th>\n",
              "      <th>SubjectRoleNumber</th>\n",
              "      <th>ForceType</th>\n",
              "      <th>ForceTypeAction</th>\n",
              "      <th>Race</th>\n",
              "      <th>Sex</th>\n",
              "      <th>EventAge</th>\n",
              "      <th>TypeOfResistance</th>\n",
              "      <th>Precinct</th>\n",
              "      <th>Neighborhood</th>\n",
              "      <th>TotalCityCallsForYear</th>\n",
              "      <th>TotalPrecinctCallsForYear</th>\n",
              "      <th>TotalNeighborhoodCallsForYear</th>\n",
              "      <th>CenterGBSID</th>\n",
              "      <th>CenterLatitude</th>\n",
              "      <th>CenterLongitude</th>\n",
              "      <th>CenterX</th>\n",
              "      <th>CenterY</th>\n",
              "      <th>DateAdded</th>\n",
              "      <th>OBJECTID</th>\n",
              "    </tr>\n",
              "  </thead>\n",
              "  <tbody>\n",
              "    <tr>\n",
              "      <th>0</th>\n",
              "      <td>-93.293351</td>\n",
              "      <td>44.999153</td>\n",
              "      <td>11494960</td>\n",
              "      <td>08-005035</td>\n",
              "      <td>2008/01/05 17:08:18+00</td>\n",
              "      <td>Traffic Law Enforcement</td>\n",
              "      <td>No</td>\n",
              "      <td>FLEE</td>\n",
              "      <td>No</td>\n",
              "      <td>5</td>\n",
              "      <td>A</td>\n",
              "      <td>1.0</td>\n",
              "      <td>Bodily Force</td>\n",
              "      <td>Body Weight to Pin</td>\n",
              "      <td>Black</td>\n",
              "      <td>Male</td>\n",
              "      <td>23.0</td>\n",
              "      <td>Fled in Vehicle</td>\n",
              "      <td>04</td>\n",
              "      <td>Near - North</td>\n",
              "      <td>322402</td>\n",
              "      <td>80434.0</td>\n",
              "      <td>10077</td>\n",
              "      <td>16119</td>\n",
              "      <td>44.999153</td>\n",
              "      <td>-93.293351</td>\n",
              "      <td>-1.038537e+07</td>\n",
              "      <td>5.621388e+06</td>\n",
              "      <td>2020/06/11 08:18:32+00</td>\n",
              "      <td>1</td>\n",
              "    </tr>\n",
              "    <tr>\n",
              "      <th>1</th>\n",
              "      <td>-93.307013</td>\n",
              "      <td>44.986990</td>\n",
              "      <td>11494961</td>\n",
              "      <td>08-012559</td>\n",
              "      <td>2008/01/12 23:41:11+00</td>\n",
              "      <td>Domestic Abuse-In Progress</td>\n",
              "      <td>Yes</td>\n",
              "      <td>OBSTRU</td>\n",
              "      <td>Yes</td>\n",
              "      <td>1</td>\n",
              "      <td>A</td>\n",
              "      <td>1.0</td>\n",
              "      <td>Bodily Force</td>\n",
              "      <td>Punches</td>\n",
              "      <td>NaN</td>\n",
              "      <td>Male</td>\n",
              "      <td>16.0</td>\n",
              "      <td>Tensed</td>\n",
              "      <td>04</td>\n",
              "      <td>Near - North</td>\n",
              "      <td>322402</td>\n",
              "      <td>80434.0</td>\n",
              "      <td>10077</td>\n",
              "      <td>15837</td>\n",
              "      <td>44.986990</td>\n",
              "      <td>-93.307013</td>\n",
              "      <td>-1.038689e+07</td>\n",
              "      <td>5.619474e+06</td>\n",
              "      <td>2020/06/11 08:18:32+00</td>\n",
              "      <td>2</td>\n",
              "    </tr>\n",
              "    <tr>\n",
              "      <th>2</th>\n",
              "      <td>-93.282185</td>\n",
              "      <td>44.948355</td>\n",
              "      <td>11494962</td>\n",
              "      <td>08-025965</td>\n",
              "      <td>2008/01/27 10:15:43+00</td>\n",
              "      <td>Suspicious Vehicle</td>\n",
              "      <td>No</td>\n",
              "      <td>NOINS</td>\n",
              "      <td>No</td>\n",
              "      <td>2</td>\n",
              "      <td>A</td>\n",
              "      <td>1.0</td>\n",
              "      <td>Bodily Force</td>\n",
              "      <td>Body Weight to Pin</td>\n",
              "      <td>White</td>\n",
              "      <td>Male</td>\n",
              "      <td>42.0</td>\n",
              "      <td>Unspecified</td>\n",
              "      <td>05</td>\n",
              "      <td>Lyndale</td>\n",
              "      <td>322402</td>\n",
              "      <td>55689.0</td>\n",
              "      <td>7628</td>\n",
              "      <td>19784</td>\n",
              "      <td>44.948355</td>\n",
              "      <td>-93.282185</td>\n",
              "      <td>-1.038413e+07</td>\n",
              "      <td>5.613395e+06</td>\n",
              "      <td>2020/06/11 08:18:32+00</td>\n",
              "      <td>3</td>\n",
              "    </tr>\n",
              "    <tr>\n",
              "      <th>3</th>\n",
              "      <td>-93.253396</td>\n",
              "      <td>44.988867</td>\n",
              "      <td>11494963</td>\n",
              "      <td>08-031711</td>\n",
              "      <td>2008/02/02 01:19:05+00</td>\n",
              "      <td>Poss Personal Injury Acc</td>\n",
              "      <td>Yes</td>\n",
              "      <td>DWI</td>\n",
              "      <td>Yes</td>\n",
              "      <td>1</td>\n",
              "      <td>A</td>\n",
              "      <td>1.0</td>\n",
              "      <td>Bodily Force</td>\n",
              "      <td>Joint Lock</td>\n",
              "      <td>Other / Mixed Race</td>\n",
              "      <td>Male</td>\n",
              "      <td>45.0</td>\n",
              "      <td>Tensed</td>\n",
              "      <td>02</td>\n",
              "      <td>Nicollet Island - East Bank</td>\n",
              "      <td>322402</td>\n",
              "      <td>48901.0</td>\n",
              "      <td>4858</td>\n",
              "      <td>19846</td>\n",
              "      <td>44.988867</td>\n",
              "      <td>-93.253396</td>\n",
              "      <td>-1.038092e+07</td>\n",
              "      <td>5.619769e+06</td>\n",
              "      <td>2020/06/11 08:18:32+00</td>\n",
              "      <td>4</td>\n",
              "    </tr>\n",
              "    <tr>\n",
              "      <th>4</th>\n",
              "      <td>-93.270211</td>\n",
              "      <td>44.963321</td>\n",
              "      <td>11494964</td>\n",
              "      <td>08-032898</td>\n",
              "      <td>2008/02/03 02:23:34+00</td>\n",
              "      <td>Motor Vehicle Chase</td>\n",
              "      <td>No</td>\n",
              "      <td>FLEE</td>\n",
              "      <td>Yes</td>\n",
              "      <td>1</td>\n",
              "      <td>A</td>\n",
              "      <td>1.0</td>\n",
              "      <td>Police K9 Bite</td>\n",
              "      <td>Off Lead</td>\n",
              "      <td>Black</td>\n",
              "      <td>Male</td>\n",
              "      <td>34.0</td>\n",
              "      <td>Fled in Vehicle</td>\n",
              "      <td>05</td>\n",
              "      <td>Steven's Square - Loring Heights</td>\n",
              "      <td>322402</td>\n",
              "      <td>55689.0</td>\n",
              "      <td>5110</td>\n",
              "      <td>21244</td>\n",
              "      <td>44.963321</td>\n",
              "      <td>-93.270211</td>\n",
              "      <td>-1.038279e+07</td>\n",
              "      <td>5.615749e+06</td>\n",
              "      <td>2020/06/11 08:18:32+00</td>\n",
              "      <td>5</td>\n",
              "    </tr>\n",
              "  </tbody>\n",
              "</table>\n",
              "</div>"
            ],
            "text/plain": [
              "           X          Y  ...               DateAdded OBJECTID\n",
              "0 -93.293351  44.999153  ...  2020/06/11 08:18:32+00        1\n",
              "1 -93.307013  44.986990  ...  2020/06/11 08:18:32+00        2\n",
              "2 -93.282185  44.948355  ...  2020/06/11 08:18:32+00        3\n",
              "3 -93.253396  44.988867  ...  2020/06/11 08:18:32+00        4\n",
              "4 -93.270211  44.963321  ...  2020/06/11 08:18:32+00        5\n",
              "\n",
              "[5 rows x 30 columns]"
            ]
          },
          "metadata": {
            "tags": []
          },
          "execution_count": 79
        }
      ]
    },
    {
      "cell_type": "code",
      "metadata": {
        "id": "irAgrUUNzm6i",
        "colab_type": "code",
        "colab": {
          "base_uri": "https://localhost:8080/",
          "height": 546
        },
        "outputId": "2351097d-6b7d-4e47-92e1-d622ab584138"
      },
      "source": [
        "df.isnull().sum()"
      ],
      "execution_count": null,
      "outputs": [
        {
          "output_type": "execute_result",
          "data": {
            "text/plain": [
              "X                                    0\n",
              "Y                                    0\n",
              "PoliceUseOfForceID                   0\n",
              "CaseNumber                           0\n",
              "ResponseDate                         0\n",
              "Problem                           1230\n",
              "Is911Call                         1135\n",
              "PrimaryOffense                    1133\n",
              "SubjectInjury                    10693\n",
              "ForceReportNumber                    0\n",
              "SubjectRole                       1148\n",
              "SubjectRoleNumber                   17\n",
              "ForceType                         1221\n",
              "ForceTypeAction                     90\n",
              "Race                              1713\n",
              "Sex                               1301\n",
              "EventAge                          1668\n",
              "TypeOfResistance                  1471\n",
              "Precinct                          1148\n",
              "Neighborhood                       145\n",
              "TotalCityCallsForYear                0\n",
              "TotalPrecinctCallsForYear         1131\n",
              "TotalNeighborhoodCallsForYear        0\n",
              "CenterGBSID                          0\n",
              "CenterLatitude                       0\n",
              "CenterLongitude                      0\n",
              "CenterX                              0\n",
              "CenterY                              0\n",
              "DateAdded                            0\n",
              "OBJECTID                             0\n",
              "dtype: int64"
            ]
          },
          "metadata": {
            "tags": []
          },
          "execution_count": 80
        }
      ]
    },
    {
      "cell_type": "code",
      "metadata": {
        "id": "csHEUIh2uyHO",
        "colab_type": "code",
        "colab": {
          "base_uri": "https://localhost:8080/",
          "height": 370
        },
        "outputId": "c0aed1b4-e135-4d65-a10c-30599684333a"
      },
      "source": [
        "#Cleaning columns not needed\n",
        "df.drop(columns=['X', 'Y'], axis= 1, inplace=True) \n",
        "df.head(5)"
      ],
      "execution_count": null,
      "outputs": [
        {
          "output_type": "execute_result",
          "data": {
            "text/html": [
              "<div>\n",
              "<style scoped>\n",
              "    .dataframe tbody tr th:only-of-type {\n",
              "        vertical-align: middle;\n",
              "    }\n",
              "\n",
              "    .dataframe tbody tr th {\n",
              "        vertical-align: top;\n",
              "    }\n",
              "\n",
              "    .dataframe thead th {\n",
              "        text-align: right;\n",
              "    }\n",
              "</style>\n",
              "<table border=\"1\" class=\"dataframe\">\n",
              "  <thead>\n",
              "    <tr style=\"text-align: right;\">\n",
              "      <th></th>\n",
              "      <th>PoliceUseOfForceID</th>\n",
              "      <th>CaseNumber</th>\n",
              "      <th>ResponseDate</th>\n",
              "      <th>Problem</th>\n",
              "      <th>Is911Call</th>\n",
              "      <th>PrimaryOffense</th>\n",
              "      <th>SubjectInjury</th>\n",
              "      <th>ForceReportNumber</th>\n",
              "      <th>SubjectRole</th>\n",
              "      <th>SubjectRoleNumber</th>\n",
              "      <th>ForceType</th>\n",
              "      <th>ForceTypeAction</th>\n",
              "      <th>Race</th>\n",
              "      <th>Sex</th>\n",
              "      <th>EventAge</th>\n",
              "      <th>TypeOfResistance</th>\n",
              "      <th>Precinct</th>\n",
              "      <th>Neighborhood</th>\n",
              "      <th>TotalCityCallsForYear</th>\n",
              "      <th>TotalPrecinctCallsForYear</th>\n",
              "      <th>TotalNeighborhoodCallsForYear</th>\n",
              "      <th>CenterGBSID</th>\n",
              "      <th>CenterLatitude</th>\n",
              "      <th>CenterLongitude</th>\n",
              "      <th>CenterX</th>\n",
              "      <th>CenterY</th>\n",
              "      <th>DateAdded</th>\n",
              "      <th>OBJECTID</th>\n",
              "    </tr>\n",
              "  </thead>\n",
              "  <tbody>\n",
              "    <tr>\n",
              "      <th>0</th>\n",
              "      <td>11494960</td>\n",
              "      <td>08-005035</td>\n",
              "      <td>2008/01/05 17:08:18+00</td>\n",
              "      <td>Traffic Law Enforcement</td>\n",
              "      <td>No</td>\n",
              "      <td>FLEE</td>\n",
              "      <td>No</td>\n",
              "      <td>5</td>\n",
              "      <td>A</td>\n",
              "      <td>1.0</td>\n",
              "      <td>Bodily Force</td>\n",
              "      <td>Body Weight to Pin</td>\n",
              "      <td>Black</td>\n",
              "      <td>Male</td>\n",
              "      <td>23.0</td>\n",
              "      <td>Fled in Vehicle</td>\n",
              "      <td>04</td>\n",
              "      <td>Near - North</td>\n",
              "      <td>322402</td>\n",
              "      <td>80434.0</td>\n",
              "      <td>10077</td>\n",
              "      <td>16119</td>\n",
              "      <td>44.999153</td>\n",
              "      <td>-93.293351</td>\n",
              "      <td>-1.038537e+07</td>\n",
              "      <td>5.621388e+06</td>\n",
              "      <td>2020/06/11 08:18:32+00</td>\n",
              "      <td>1</td>\n",
              "    </tr>\n",
              "    <tr>\n",
              "      <th>1</th>\n",
              "      <td>11494961</td>\n",
              "      <td>08-012559</td>\n",
              "      <td>2008/01/12 23:41:11+00</td>\n",
              "      <td>Domestic Abuse-In Progress</td>\n",
              "      <td>Yes</td>\n",
              "      <td>OBSTRU</td>\n",
              "      <td>Yes</td>\n",
              "      <td>1</td>\n",
              "      <td>A</td>\n",
              "      <td>1.0</td>\n",
              "      <td>Bodily Force</td>\n",
              "      <td>Punches</td>\n",
              "      <td>NaN</td>\n",
              "      <td>Male</td>\n",
              "      <td>16.0</td>\n",
              "      <td>Tensed</td>\n",
              "      <td>04</td>\n",
              "      <td>Near - North</td>\n",
              "      <td>322402</td>\n",
              "      <td>80434.0</td>\n",
              "      <td>10077</td>\n",
              "      <td>15837</td>\n",
              "      <td>44.986990</td>\n",
              "      <td>-93.307013</td>\n",
              "      <td>-1.038689e+07</td>\n",
              "      <td>5.619474e+06</td>\n",
              "      <td>2020/06/11 08:18:32+00</td>\n",
              "      <td>2</td>\n",
              "    </tr>\n",
              "    <tr>\n",
              "      <th>2</th>\n",
              "      <td>11494962</td>\n",
              "      <td>08-025965</td>\n",
              "      <td>2008/01/27 10:15:43+00</td>\n",
              "      <td>Suspicious Vehicle</td>\n",
              "      <td>No</td>\n",
              "      <td>NOINS</td>\n",
              "      <td>No</td>\n",
              "      <td>2</td>\n",
              "      <td>A</td>\n",
              "      <td>1.0</td>\n",
              "      <td>Bodily Force</td>\n",
              "      <td>Body Weight to Pin</td>\n",
              "      <td>White</td>\n",
              "      <td>Male</td>\n",
              "      <td>42.0</td>\n",
              "      <td>Unspecified</td>\n",
              "      <td>05</td>\n",
              "      <td>Lyndale</td>\n",
              "      <td>322402</td>\n",
              "      <td>55689.0</td>\n",
              "      <td>7628</td>\n",
              "      <td>19784</td>\n",
              "      <td>44.948355</td>\n",
              "      <td>-93.282185</td>\n",
              "      <td>-1.038413e+07</td>\n",
              "      <td>5.613395e+06</td>\n",
              "      <td>2020/06/11 08:18:32+00</td>\n",
              "      <td>3</td>\n",
              "    </tr>\n",
              "    <tr>\n",
              "      <th>3</th>\n",
              "      <td>11494963</td>\n",
              "      <td>08-031711</td>\n",
              "      <td>2008/02/02 01:19:05+00</td>\n",
              "      <td>Poss Personal Injury Acc</td>\n",
              "      <td>Yes</td>\n",
              "      <td>DWI</td>\n",
              "      <td>Yes</td>\n",
              "      <td>1</td>\n",
              "      <td>A</td>\n",
              "      <td>1.0</td>\n",
              "      <td>Bodily Force</td>\n",
              "      <td>Joint Lock</td>\n",
              "      <td>Other / Mixed Race</td>\n",
              "      <td>Male</td>\n",
              "      <td>45.0</td>\n",
              "      <td>Tensed</td>\n",
              "      <td>02</td>\n",
              "      <td>Nicollet Island - East Bank</td>\n",
              "      <td>322402</td>\n",
              "      <td>48901.0</td>\n",
              "      <td>4858</td>\n",
              "      <td>19846</td>\n",
              "      <td>44.988867</td>\n",
              "      <td>-93.253396</td>\n",
              "      <td>-1.038092e+07</td>\n",
              "      <td>5.619769e+06</td>\n",
              "      <td>2020/06/11 08:18:32+00</td>\n",
              "      <td>4</td>\n",
              "    </tr>\n",
              "    <tr>\n",
              "      <th>4</th>\n",
              "      <td>11494964</td>\n",
              "      <td>08-032898</td>\n",
              "      <td>2008/02/03 02:23:34+00</td>\n",
              "      <td>Motor Vehicle Chase</td>\n",
              "      <td>No</td>\n",
              "      <td>FLEE</td>\n",
              "      <td>Yes</td>\n",
              "      <td>1</td>\n",
              "      <td>A</td>\n",
              "      <td>1.0</td>\n",
              "      <td>Police K9 Bite</td>\n",
              "      <td>Off Lead</td>\n",
              "      <td>Black</td>\n",
              "      <td>Male</td>\n",
              "      <td>34.0</td>\n",
              "      <td>Fled in Vehicle</td>\n",
              "      <td>05</td>\n",
              "      <td>Steven's Square - Loring Heights</td>\n",
              "      <td>322402</td>\n",
              "      <td>55689.0</td>\n",
              "      <td>5110</td>\n",
              "      <td>21244</td>\n",
              "      <td>44.963321</td>\n",
              "      <td>-93.270211</td>\n",
              "      <td>-1.038279e+07</td>\n",
              "      <td>5.615749e+06</td>\n",
              "      <td>2020/06/11 08:18:32+00</td>\n",
              "      <td>5</td>\n",
              "    </tr>\n",
              "  </tbody>\n",
              "</table>\n",
              "</div>"
            ],
            "text/plain": [
              "   PoliceUseOfForceID CaseNumber  ...               DateAdded OBJECTID\n",
              "0            11494960  08-005035  ...  2020/06/11 08:18:32+00        1\n",
              "1            11494961  08-012559  ...  2020/06/11 08:18:32+00        2\n",
              "2            11494962  08-025965  ...  2020/06/11 08:18:32+00        3\n",
              "3            11494963  08-031711  ...  2020/06/11 08:18:32+00        4\n",
              "4            11494964  08-032898  ...  2020/06/11 08:18:32+00        5\n",
              "\n",
              "[5 rows x 28 columns]"
            ]
          },
          "metadata": {
            "tags": []
          },
          "execution_count": 81
        }
      ]
    },
    {
      "cell_type": "code",
      "metadata": {
        "id": "DV-28U5-4Q7M",
        "colab_type": "code",
        "colab": {
          "base_uri": "https://localhost:8080/",
          "height": 512
        },
        "outputId": "91f94b81-7960-4340-cbf5-3fab0c6356bb"
      },
      "source": [
        "df.dtypes"
      ],
      "execution_count": null,
      "outputs": [
        {
          "output_type": "execute_result",
          "data": {
            "text/plain": [
              "PoliceUseOfForceID                 int64\n",
              "CaseNumber                        object\n",
              "ResponseDate                      object\n",
              "Problem                           object\n",
              "Is911Call                         object\n",
              "PrimaryOffense                    object\n",
              "SubjectInjury                     object\n",
              "ForceReportNumber                  int64\n",
              "SubjectRole                       object\n",
              "SubjectRoleNumber                float64\n",
              "ForceType                         object\n",
              "ForceTypeAction                   object\n",
              "Race                              object\n",
              "Sex                               object\n",
              "EventAge                         float64\n",
              "TypeOfResistance                  object\n",
              "Precinct                          object\n",
              "Neighborhood                      object\n",
              "TotalCityCallsForYear              int64\n",
              "TotalPrecinctCallsForYear        float64\n",
              "TotalNeighborhoodCallsForYear      int64\n",
              "CenterGBSID                        int64\n",
              "CenterLatitude                   float64\n",
              "CenterLongitude                  float64\n",
              "CenterX                          float64\n",
              "CenterY                          float64\n",
              "DateAdded                         object\n",
              "OBJECTID                           int64\n",
              "dtype: object"
            ]
          },
          "metadata": {
            "tags": []
          },
          "execution_count": 82
        }
      ]
    },
    {
      "cell_type": "code",
      "metadata": {
        "id": "NpokdMO8knkQ",
        "colab_type": "code",
        "colab": {
          "base_uri": "https://localhost:8080/",
          "height": 153
        },
        "outputId": "72b2b53f-86c5-47d0-9859-8ac1423f2c62"
      },
      "source": [
        "df.keys()"
      ],
      "execution_count": null,
      "outputs": [
        {
          "output_type": "execute_result",
          "data": {
            "text/plain": [
              "Index(['PoliceUseOfForceID', 'CaseNumber', 'ResponseDate', 'Problem',\n",
              "       'Is911Call', 'PrimaryOffense', 'SubjectInjury', 'ForceReportNumber',\n",
              "       'SubjectRole', 'SubjectRoleNumber', 'ForceType', 'ForceTypeAction',\n",
              "       'Race', 'Sex', 'EventAge', 'TypeOfResistance', 'Precinct',\n",
              "       'Neighborhood', 'TotalCityCallsForYear', 'TotalPrecinctCallsForYear',\n",
              "       'TotalNeighborhoodCallsForYear', 'CenterGBSID', 'CenterLatitude',\n",
              "       'CenterLongitude', 'CenterX', 'CenterY', 'DateAdded', 'OBJECTID'],\n",
              "      dtype='object')"
            ]
          },
          "metadata": {
            "tags": []
          },
          "execution_count": 83
        }
      ]
    },
    {
      "cell_type": "code",
      "metadata": {
        "id": "rGzDItGfnuDP",
        "colab_type": "code",
        "colab": {
          "base_uri": "https://localhost:8080/",
          "height": 375
        },
        "outputId": "1786daab-ab01-4b4b-f333-69935c666f9b"
      },
      "source": [
        "df['Problem'].value_counts().head(20)"
      ],
      "execution_count": null,
      "outputs": [
        {
          "output_type": "execute_result",
          "data": {
            "text/plain": [
              "Suspicious Person              4903\n",
              "Fight                          3166\n",
              "Disturbance                    2308\n",
              "Domestic Abuse-In Progress     1880\n",
              "Suspicious Vehicle             1263\n",
              "Traffic Law Enforcement        1216\n",
              "Unknown Trouble                1161\n",
              "Assault in Progress            1072\n",
              "Unwanted Person                 827\n",
              "Person with a Gun               711\n",
              "Emotionally Disturb Person      690\n",
              "Chase on Foot                   627\n",
              "Domestic                        594\n",
              "Officer Needs Help              493\n",
              "Burglary Dwlng In Progress      482\n",
              "Check the Welfare               460\n",
              "Miscellaneous                   407\n",
              "Motor Vehicle Chase             381\n",
              "Theft                           377\n",
              "Damage Property-In Progress     348\n",
              "Name: Problem, dtype: int64"
            ]
          },
          "metadata": {
            "tags": []
          },
          "execution_count": 84
        }
      ]
    },
    {
      "cell_type": "code",
      "metadata": {
        "id": "fvAKjxakuWIT",
        "colab_type": "code",
        "colab": {}
      },
      "source": [
        "import seaborn as sns"
      ],
      "execution_count": null,
      "outputs": []
    },
    {
      "cell_type": "code",
      "metadata": {
        "id": "KyFYtLtI4hQp",
        "colab_type": "code",
        "colab": {
          "base_uri": "https://localhost:8080/",
          "height": 513
        },
        "outputId": "1e72266e-d196-4870-c9d8-69cbacb46d88"
      },
      "source": [
        "#Plot 20 most often problems that Police involved\n",
        "df['Problem'].value_counts(ascending= False).head(20).plot(kind= 'barh',color= 'b', figsize= (15,8))\n",
        "plt.xlabel(\"Types of Problems\")\n",
        "plt.ylabel(\"Frequency\")\n",
        "plt.title(\"The 20 most frequent crimes that Police of Mineapolis is involved\")\n",
        "plt.legend()\n",
        "\n",
        "plt.savefig(\"/gdrive/My Drive/Colab Notebooks/problems.png\",transparent= True,bbox_inches= 'tight')"
      ],
      "execution_count": null,
      "outputs": [
        {
          "output_type": "display_data",
          "data": {
            "image/png": "[encoded data removed]",
            "text/plain": [
              "<Figure size 1080x576 with 1 Axes>"
            ]
          },
          "metadata": {
            "tags": [],
            "needs_background": "light"
          }
        }
      ]
    },
    {
      "cell_type": "code",
      "metadata": {
        "id": "AWoMISFOnyUA",
        "colab_type": "code",
        "colab": {
          "base_uri": "https://localhost:8080/",
          "height": 221
        },
        "outputId": "804ec57e-7627-42d4-e4a4-3e7af7add8dd"
      },
      "source": [
        "#Int64 to string\n",
        "df['ForceType'].astype(str)"
      ],
      "execution_count": null,
      "outputs": [
        {
          "output_type": "execute_result",
          "data": {
            "text/plain": [
              "0          Bodily Force\n",
              "1          Bodily Force\n",
              "2          Bodily Force\n",
              "3          Bodily Force\n",
              "4        Police K9 Bite\n",
              "              ...      \n",
              "30110               nan\n",
              "30111               nan\n",
              "30112               nan\n",
              "30113               nan\n",
              "30114               nan\n",
              "Name: ForceType, Length: 30115, dtype: object"
            ]
          },
          "metadata": {
            "tags": []
          },
          "execution_count": 86
        }
      ]
    },
    {
      "cell_type": "code",
      "metadata": {
        "id": "LepuWAkFzNBv",
        "colab_type": "code",
        "colab": {
          "base_uri": "https://localhost:8080/",
          "height": 221
        },
        "outputId": "fcd3ec82-00de-4a76-a0a9-8b44d6e205ba"
      },
      "source": [
        "\n",
        "df['ForceType'].value_counts()"
      ],
      "execution_count": null,
      "outputs": [
        {
          "output_type": "execute_result",
          "data": {
            "text/plain": [
              "Bodily Force                   20684\n",
              "Chemical Irritant               4168\n",
              "Taser                           2696\n",
              "Gun Point Display                439\n",
              "Improvised Weapon                330\n",
              "Police K9 Bite                   289\n",
              "Maximal Restraint Technique      128\n",
              "Baton                             57\n",
              "Firearm                           44\n",
              "Less Lethal                       43\n",
              "Less Lethal Projectile            16\n",
              "Name: ForceType, dtype: int64"
            ]
          },
          "metadata": {
            "tags": []
          },
          "execution_count": 87
        }
      ]
    },
    {
      "cell_type": "code",
      "metadata": {
        "id": "knctKjlqwpTI",
        "colab_type": "code",
        "colab": {
          "base_uri": "https://localhost:8080/",
          "height": 647
        },
        "outputId": "f56228c7-5b06-4bd4-c762-6e78c2722d80"
      },
      "source": [
        "#The most frequent types of Force\n",
        "df['ForceType'].value_counts().plot(kind= 'bar',color='c', figsize= (10,8))\n",
        "plt.xlabel(\"Force Type used\")\n",
        "plt.ylabel(\"Frequency\")\n",
        "plt.title(\"Types of Force used by Police Officers\")\n",
        "plt.legend()\n",
        "\n",
        "plt.savefig(\"/gdrive/My Drive/Colab Notebooks/Forcetypes.png\",transparent= True,bbox_inches= 'tight')"
      ],
      "execution_count": null,
      "outputs": [
        {
          "output_type": "display_data",
          "data": {
            "image/png": "[encoded data removed]",
            "text/plain": [
              "<Figure size 720x576 with 1 Axes>"
            ]
          },
          "metadata": {
            "tags": [],
            "needs_background": "light"
          }
        }
      ]
    },
    {
      "cell_type": "code",
      "metadata": {
        "id": "mv_2kgJKEh8m",
        "colab_type": "code",
        "colab": {
          "base_uri": "https://localhost:8080/",
          "height": 749
        },
        "outputId": "21bf2492-3f7f-412c-c932-90e7604050ee"
      },
      "source": [
        "#Kind of Force\n",
        "df['ForceTypeAction'].value_counts().plot(kind= 'bar',color='b', figsize= (15,8))\n",
        "plt.xlabel(\"Kind Force Type used\")\n",
        "plt.ylabel(\"Frequency\")\n",
        "plt.title(\"Kind of Force used by Police Officers\")\n",
        "plt.legend()\n",
        "\n",
        "plt.savefig(\"/gdrive/My Drive/Colab Notebooks/kind_of_force.png\",transparent= True,bbox_inches= 'tight')"
      ],
      "execution_count": null,
      "outputs": [
        {
          "output_type": "display_data",
          "data": {
            "image/png": "[encoded data removed]",
            "text/plain": [
              "<Figure size 1080x576 with 1 Axes>"
            ]
          },
          "metadata": {
            "tags": [],
            "needs_background": "light"
          }
        }
      ]
    },
    {
      "cell_type": "code",
      "metadata": {
        "id": "PsoAYBzssPq6",
        "colab_type": "code",
        "colab": {
          "base_uri": "https://localhost:8080/",
          "height": 85
        },
        "outputId": "37f9e7be-af1a-4a1e-ab4e-4d5262d892e5"
      },
      "source": [
        "#Count values per Sex\n",
        "df['Sex'].value_counts() "
      ],
      "execution_count": null,
      "outputs": [
        {
          "output_type": "execute_result",
          "data": {
            "text/plain": [
              "Male            24903\n",
              "Female           3683\n",
              "not recorded      228\n",
              "Name: Sex, dtype: int64"
            ]
          },
          "metadata": {
            "tags": []
          },
          "execution_count": 90
        }
      ]
    },
    {
      "cell_type": "code",
      "metadata": {
        "id": "aqg9udU_2dtw",
        "colab_type": "code",
        "colab": {}
      },
      "source": [
        ""
      ],
      "execution_count": null,
      "outputs": []
    },
    {
      "cell_type": "code",
      "metadata": {
        "id": "WlpfJZrJyDMr",
        "colab_type": "code",
        "colab": {
          "base_uri": "https://localhost:8080/",
          "height": 499
        },
        "outputId": "bbdae3d6-23df-4c20-99b7-86a5b2deb632"
      },
      "source": [
        "#Plot values per Sex\n",
        "# Data to plot\n",
        "fig, ax = plt.subplots(figsize=(10, 8), subplot_kw=dict(aspect=\"equal\"))\n",
        "\n",
        "labels = 'Male', 'Female', 'Not recorded'\n",
        "sizes = [24903, 3683, 228]\n",
        "colors = [ 'y', 'b', 'm']\n",
        "\n",
        "# Plot\n",
        "plt.pie(sizes, labels=labels, colors=colors,\n",
        "autopct='%1.1f%%', shadow=True, startangle=140)\n",
        "\n",
        "plt.axis('equal')\n",
        "plt.title('Victims involved in crimes by sex')\n",
        "plt.show()\n",
        "plt.savefig(\"/gdrive/My Drive/Colab Notebooks/Values_per_sex.png\",transparent= True,bbox_inches= 'tight')"
      ],
      "execution_count": null,
      "outputs": [
        {
          "output_type": "display_data",
          "data": {
            "image/png": "[encoded data removed]",
            "text/plain": [
              "<Figure size 720x576 with 1 Axes>"
            ]
          },
          "metadata": {
            "tags": []
          }
        },
        {
          "output_type": "display_data",
          "data": {
            "text/plain": [
              "<Figure size 432x288 with 0 Axes>"
            ]
          },
          "metadata": {
            "tags": []
          }
        }
      ]
    },
    {
      "cell_type": "code",
      "metadata": {
        "id": "nOYYfcFENA0E",
        "colab_type": "code",
        "colab": {}
      },
      "source": [
        "df.rename({'EventAge': 'Age'}, axis=1,  inplace= True )\n"
      ],
      "execution_count": null,
      "outputs": []
    },
    {
      "cell_type": "code",
      "metadata": {
        "id": "pmPvxKk_1xLp",
        "colab_type": "code",
        "colab": {
          "base_uri": "https://localhost:8080/",
          "height": 153
        },
        "outputId": "7d71997d-d6dd-4b7c-d2a4-44e947d9cd70"
      },
      "source": [
        "df['Race'].value_counts()"
      ],
      "execution_count": null,
      "outputs": [
        {
          "output_type": "execute_result",
          "data": {
            "text/plain": [
              "Black                 17976\n",
              "White                  7058\n",
              "Native American        1493\n",
              "Other / Mixed Race     1095\n",
              "Asian                   420\n",
              "not recorded            356\n",
              "Pacific Islander          4\n",
              "Name: Race, dtype: int64"
            ]
          },
          "metadata": {
            "tags": []
          },
          "execution_count": 93
        }
      ]
    },
    {
      "cell_type": "code",
      "metadata": {
        "id": "YxEbQpgk3y19",
        "colab_type": "code",
        "colab": {
          "base_uri": "https://localhost:8080/",
          "height": 214
        },
        "outputId": "fb61996a-78e3-427c-c257-449436bf8137"
      },
      "source": [
        "import plotly.graph_objects as go\n",
        "\n",
        "labels = [' Black','White','Native American',' Other / Mixed Race','Pacific Islander',' Asian ', 'not recorded ', ]\n",
        "values = [17976, 7058, 1493, 1095,4,420,356]\n",
        "\n",
        "fig = go.Figure(data=[go.Pie(labels=labels, values=values, hole=.3)])\n",
        "plot.title(\"Race of victims\")\n",
        "fig.show()\n"
      ],
      "execution_count": null,
      "outputs": [
        {
          "output_type": "error",
          "ename": "NameError",
          "evalue": "ignored",
          "traceback": [
            "\u001b[0;31m---------------------------------------------------------------------------\u001b[0m",
            "\u001b[0;31mNameError\u001b[0m                                 Traceback (most recent call last)",
            "\u001b[0;32m<ipython-input-96-60245276b3c8>\u001b[0m in \u001b[0;36m<module>\u001b[0;34m()\u001b[0m\n\u001b[1;32m      5\u001b[0m \u001b[0;34m\u001b[0m\u001b[0m\n\u001b[1;32m      6\u001b[0m \u001b[0mfig\u001b[0m \u001b[0;34m=\u001b[0m \u001b[0mgo\u001b[0m\u001b[0;34m.\u001b[0m\u001b[0mFigure\u001b[0m\u001b[0;34m(\u001b[0m\u001b[0mdata\u001b[0m\u001b[0;34m=\u001b[0m\u001b[0;34m[\u001b[0m\u001b[0mgo\u001b[0m\u001b[0;34m.\u001b[0m\u001b[0mPie\u001b[0m\u001b[0;34m(\u001b[0m\u001b[0mlabels\u001b[0m\u001b[0;34m=\u001b[0m\u001b[0mlabels\u001b[0m\u001b[0;34m,\u001b[0m \u001b[0mvalues\u001b[0m\u001b[0;34m=\u001b[0m\u001b[0mvalues\u001b[0m\u001b[0;34m,\u001b[0m \u001b[0mhole\u001b[0m\u001b[0;34m=\u001b[0m\u001b[0;36m.3\u001b[0m\u001b[0;34m)\u001b[0m\u001b[0;34m]\u001b[0m\u001b[0;34m)\u001b[0m\u001b[0;34m\u001b[0m\u001b[0;34m\u001b[0m\u001b[0m\n\u001b[0;32m----> 7\u001b[0;31m \u001b[0mplot\u001b[0m\u001b[0;34m.\u001b[0m\u001b[0mtitle\u001b[0m\u001b[0;34m(\u001b[0m\u001b[0;34m\"Race of victims\"\u001b[0m\u001b[0;34m)\u001b[0m\u001b[0;34m\u001b[0m\u001b[0;34m\u001b[0m\u001b[0m\n\u001b[0m\u001b[1;32m      8\u001b[0m \u001b[0mfig\u001b[0m\u001b[0;34m.\u001b[0m\u001b[0mshow\u001b[0m\u001b[0;34m(\u001b[0m\u001b[0;34m)\u001b[0m\u001b[0;34m\u001b[0m\u001b[0;34m\u001b[0m\u001b[0m\n",
            "\u001b[0;31mNameError\u001b[0m: name 'plot' is not defined"
          ]
        }
      ]
    },
    {
      "cell_type": "code",
      "metadata": {
        "id": "MTGr5ZikvOWR",
        "colab_type": "code",
        "colab": {
          "base_uri": "https://localhost:8080/",
          "height": 598
        },
        "outputId": "00adad50-d7bb-44c0-b922-6d720f9f2782"
      },
      "source": [
        "df['Race'].value_counts().plot(kind='bar', color= 'y',figsize= (10,8))\n",
        "\n",
        "plt.xlabel(\"Race \")\n",
        "plt.ylabel(\"Frequency\")\n",
        "plt.title(\"Victims involved in crimes by race\")\n",
        "plt.legend()\n",
        "\n",
        "plt.savefig(\"/gdrive/My Drive/Colab Notebooks/Race.png\",transparent= True,bbox_inches= 'tight')\n"
      ],
      "execution_count": null,
      "outputs": [
        {
          "output_type": "display_data",
          "data": {
            "image/png": "[encoded data removed]",
            "text/plain": [
              "<Figure size 720x576 with 1 Axes>"
            ]
          },
          "metadata": {
            "tags": [],
            "needs_background": "light"
          }
        }
      ]
    },
    {
      "cell_type": "code",
      "metadata": {
        "id": "kANHxcHECXPP",
        "colab_type": "code",
        "colab": {
          "base_uri": "https://localhost:8080/",
          "height": 102
        },
        "outputId": "7aae92a9-4fcd-4a2c-eb6f-6a3856efdd4c"
      },
      "source": [
        "df.groupby('Sex')['Age'].mean()"
      ],
      "execution_count": null,
      "outputs": [
        {
          "output_type": "execute_result",
          "data": {
            "text/plain": [
              "Sex\n",
              "Female          26.107910\n",
              "Male            28.764352\n",
              "not recorded     3.899471\n",
              "Name: Age, dtype: float64"
            ]
          },
          "metadata": {
            "tags": []
          },
          "execution_count": 58
        }
      ]
    },
    {
      "cell_type": "code",
      "metadata": {
        "id": "XO_h2u9yMAmw",
        "colab_type": "code",
        "colab": {
          "base_uri": "https://localhost:8080/",
          "height": 567
        },
        "outputId": "57e9b308-b1bc-487c-c1e3-94abff02ef6a"
      },
      "source": [
        "df.groupby('Sex')['Age'].mean().plot(kind= 'bar', figsize= (10,8), color='c')\n",
        "plt.xlabel(\"Gender \")\n",
        "plt.ylabel(\"Mean Age\")\n",
        "plt.title(\"Mean age of victims involved in crimes\")\n",
        "plt.legend()\n",
        "\n",
        "plt.savefig(\"/gdrive/My Drive/Colab Notebooks/Race.png\",transparent= True,bbox_inches= 'tight')"
      ],
      "execution_count": null,
      "outputs": [
        {
          "output_type": "display_data",
          "data": {
            "image/png": "[encoded data removed]",
            "text/plain": [
              "<Figure size 720x576 with 1 Axes>"
            ]
          },
          "metadata": {
            "tags": [],
            "needs_background": "light"
          }
        }
      ]
    },
    {
      "cell_type": "code",
      "metadata": {
        "id": "bsXiuNTc0g_p",
        "colab_type": "code",
        "colab": {
          "base_uri": "https://localhost:8080/",
          "height": 153
        },
        "outputId": "d5c1dc67-b4f9-4547-a723-f54682cd3b9c"
      },
      "source": [
        "%%time\n",
        "pd.to_datetime(df['ResponseDate']).head()"
      ],
      "execution_count": null,
      "outputs": [
        {
          "output_type": "stream",
          "text": [
            "CPU times: user 19.2 ms, sys: 2.03 ms, total: 21.2 ms\n",
            "Wall time: 23.4 ms\n"
          ],
          "name": "stdout"
        },
        {
          "output_type": "execute_result",
          "data": {
            "text/plain": [
              "0   2008-01-05 17:08:18+00:00\n",
              "1   2008-01-12 23:41:11+00:00\n",
              "2   2008-01-27 10:15:43+00:00\n",
              "3   2008-02-02 01:19:05+00:00\n",
              "4   2008-02-03 02:23:34+00:00\n",
              "Name: ResponseDate, dtype: datetime64[ns, UTC]"
            ]
          },
          "metadata": {
            "tags": []
          },
          "execution_count": 60
        }
      ]
    },
    {
      "cell_type": "code",
      "metadata": {
        "id": "0FgKuxGF3UBp",
        "colab_type": "code",
        "colab": {
          "base_uri": "https://localhost:8080/",
          "height": 153
        },
        "outputId": "a850eb0b-df31-4a29-9999-aab370d6308a"
      },
      "source": [
        "%%time\n",
        "pd.to_datetime(df['ResponseDate'], format='%Y/%m/%d').head() "
      ],
      "execution_count": null,
      "outputs": [
        {
          "output_type": "stream",
          "text": [
            "CPU times: user 16.4 ms, sys: 773 µs, total: 17.2 ms\n",
            "Wall time: 18.9 ms\n"
          ],
          "name": "stdout"
        },
        {
          "output_type": "execute_result",
          "data": {
            "text/plain": [
              "0   2008-01-05 17:08:18+00:00\n",
              "1   2008-01-12 23:41:11+00:00\n",
              "2   2008-01-27 10:15:43+00:00\n",
              "3   2008-02-02 01:19:05+00:00\n",
              "4   2008-02-03 02:23:34+00:00\n",
              "Name: ResponseDate, dtype: datetime64[ns, UTC]"
            ]
          },
          "metadata": {
            "tags": []
          },
          "execution_count": 61
        }
      ]
    },
    {
      "cell_type": "code",
      "metadata": {
        "id": "maTADMDR3UEz",
        "colab_type": "code",
        "colab": {
          "base_uri": "https://localhost:8080/",
          "height": 221
        },
        "outputId": "f3551ace-00a7-44cf-f346-0155b195a56b"
      },
      "source": [
        "df['date'] = pd.to_datetime(df['ResponseDate'], format='%Y/%m/%d')  #Add new column 'date' to dataframe as datetime \n",
        "df['date']"
      ],
      "execution_count": null,
      "outputs": [
        {
          "output_type": "execute_result",
          "data": {
            "text/plain": [
              "0       2008-01-05 17:08:18+00:00\n",
              "1       2008-01-12 23:41:11+00:00\n",
              "2       2008-01-27 10:15:43+00:00\n",
              "3       2008-02-02 01:19:05+00:00\n",
              "4       2008-02-03 02:23:34+00:00\n",
              "                   ...           \n",
              "30110   2019-01-01 00:00:00+00:00\n",
              "30111   2011-01-01 00:00:00+00:00\n",
              "30112   2017-01-01 00:00:00+00:00\n",
              "30113   2011-01-01 00:00:00+00:00\n",
              "30114   2018-01-01 00:00:00+00:00\n",
              "Name: date, Length: 30115, dtype: datetime64[ns, UTC]"
            ]
          },
          "metadata": {
            "tags": []
          },
          "execution_count": 62
        }
      ]
    },
    {
      "cell_type": "code",
      "metadata": {
        "id": "_XlTyLET8fIz",
        "colab_type": "code",
        "colab": {
          "base_uri": "https://localhost:8080/",
          "height": 529
        },
        "outputId": "eb3421d4-bfb7-4b87-859f-3c5115108d04"
      },
      "source": [
        "df.dtypes\n"
      ],
      "execution_count": null,
      "outputs": [
        {
          "output_type": "execute_result",
          "data": {
            "text/plain": [
              "PoliceUseOfForceID                             int64\n",
              "CaseNumber                                    object\n",
              "ResponseDate                                  object\n",
              "Problem                                       object\n",
              "Is911Call                                     object\n",
              "PrimaryOffense                                object\n",
              "SubjectInjury                                 object\n",
              "ForceReportNumber                              int64\n",
              "SubjectRole                                   object\n",
              "SubjectRoleNumber                            float64\n",
              "ForceType                                     object\n",
              "ForceTypeAction                               object\n",
              "Race                                          object\n",
              "Sex                                           object\n",
              "Age                                          float64\n",
              "TypeOfResistance                              object\n",
              "Precinct                                      object\n",
              "Neighborhood                                  object\n",
              "TotalCityCallsForYear                          int64\n",
              "TotalPrecinctCallsForYear                    float64\n",
              "TotalNeighborhoodCallsForYear                  int64\n",
              "CenterGBSID                                    int64\n",
              "CenterLatitude                               float64\n",
              "CenterLongitude                              float64\n",
              "CenterX                                      float64\n",
              "CenterY                                      float64\n",
              "DateAdded                                     object\n",
              "OBJECTID                                       int64\n",
              "date                             datetime64[ns, UTC]\n",
              "dtype: object"
            ]
          },
          "metadata": {
            "tags": []
          },
          "execution_count": 63
        }
      ]
    },
    {
      "cell_type": "code",
      "metadata": {
        "id": "X24R6lA38fMR",
        "colab_type": "code",
        "colab": {}
      },
      "source": [
        "#Set date of signals as index\n",
        "df.set_index(['date'] , inplace=True)"
      ],
      "execution_count": null,
      "outputs": []
    },
    {
      "cell_type": "code",
      "metadata": {
        "id": "gbbuPfWu8jtK",
        "colab_type": "code",
        "colab": {
          "base_uri": "https://localhost:8080/",
          "height": 762
        },
        "outputId": "eed7b40b-e3c1-4dd5-bff3-5ed8e8d51b87"
      },
      "source": [
        "df"
      ],
      "execution_count": null,
      "outputs": [
        {
          "output_type": "execute_result",
          "data": {
            "text/html": [
              "<div>\n",
              "<style scoped>\n",
              "    .dataframe tbody tr th:only-of-type {\n",
              "        vertical-align: middle;\n",
              "    }\n",
              "\n",
              "    .dataframe tbody tr th {\n",
              "        vertical-align: top;\n",
              "    }\n",
              "\n",
              "    .dataframe thead th {\n",
              "        text-align: right;\n",
              "    }\n",
              "</style>\n",
              "<table border=\"1\" class=\"dataframe\">\n",
              "  <thead>\n",
              "    <tr style=\"text-align: right;\">\n",
              "      <th></th>\n",
              "      <th>PoliceUseOfForceID</th>\n",
              "      <th>CaseNumber</th>\n",
              "      <th>ResponseDate</th>\n",
              "      <th>Problem</th>\n",
              "      <th>Is911Call</th>\n",
              "      <th>PrimaryOffense</th>\n",
              "      <th>SubjectInjury</th>\n",
              "      <th>ForceReportNumber</th>\n",
              "      <th>SubjectRole</th>\n",
              "      <th>SubjectRoleNumber</th>\n",
              "      <th>ForceType</th>\n",
              "      <th>ForceTypeAction</th>\n",
              "      <th>Race</th>\n",
              "      <th>Sex</th>\n",
              "      <th>Age</th>\n",
              "      <th>TypeOfResistance</th>\n",
              "      <th>Precinct</th>\n",
              "      <th>Neighborhood</th>\n",
              "      <th>TotalCityCallsForYear</th>\n",
              "      <th>TotalPrecinctCallsForYear</th>\n",
              "      <th>TotalNeighborhoodCallsForYear</th>\n",
              "      <th>CenterGBSID</th>\n",
              "      <th>CenterLatitude</th>\n",
              "      <th>CenterLongitude</th>\n",
              "      <th>CenterX</th>\n",
              "      <th>CenterY</th>\n",
              "      <th>DateAdded</th>\n",
              "      <th>OBJECTID</th>\n",
              "    </tr>\n",
              "    <tr>\n",
              "      <th>date</th>\n",
              "      <th></th>\n",
              "      <th></th>\n",
              "      <th></th>\n",
              "      <th></th>\n",
              "      <th></th>\n",
              "      <th></th>\n",
              "      <th></th>\n",
              "      <th></th>\n",
              "      <th></th>\n",
              "      <th></th>\n",
              "      <th></th>\n",
              "      <th></th>\n",
              "      <th></th>\n",
              "      <th></th>\n",
              "      <th></th>\n",
              "      <th></th>\n",
              "      <th></th>\n",
              "      <th></th>\n",
              "      <th></th>\n",
              "      <th></th>\n",
              "      <th></th>\n",
              "      <th></th>\n",
              "      <th></th>\n",
              "      <th></th>\n",
              "      <th></th>\n",
              "      <th></th>\n",
              "      <th></th>\n",
              "      <th></th>\n",
              "    </tr>\n",
              "  </thead>\n",
              "  <tbody>\n",
              "    <tr>\n",
              "      <th>2008-01-05 17:08:18+00:00</th>\n",
              "      <td>11494960</td>\n",
              "      <td>08-005035</td>\n",
              "      <td>2008/01/05 17:08:18+00</td>\n",
              "      <td>Traffic Law Enforcement</td>\n",
              "      <td>No</td>\n",
              "      <td>FLEE</td>\n",
              "      <td>No</td>\n",
              "      <td>5</td>\n",
              "      <td>A</td>\n",
              "      <td>1.0</td>\n",
              "      <td>Bodily Force</td>\n",
              "      <td>Body Weight to Pin</td>\n",
              "      <td>Black</td>\n",
              "      <td>Male</td>\n",
              "      <td>23.0</td>\n",
              "      <td>Fled in Vehicle</td>\n",
              "      <td>04</td>\n",
              "      <td>Near - North</td>\n",
              "      <td>322402</td>\n",
              "      <td>80434.0</td>\n",
              "      <td>10077</td>\n",
              "      <td>16119</td>\n",
              "      <td>44.999153</td>\n",
              "      <td>-93.293351</td>\n",
              "      <td>-1.038537e+07</td>\n",
              "      <td>5.621388e+06</td>\n",
              "      <td>2020/06/11 08:18:32+00</td>\n",
              "      <td>1</td>\n",
              "    </tr>\n",
              "    <tr>\n",
              "      <th>2008-01-12 23:41:11+00:00</th>\n",
              "      <td>11494961</td>\n",
              "      <td>08-012559</td>\n",
              "      <td>2008/01/12 23:41:11+00</td>\n",
              "      <td>Domestic Abuse-In Progress</td>\n",
              "      <td>Yes</td>\n",
              "      <td>OBSTRU</td>\n",
              "      <td>Yes</td>\n",
              "      <td>1</td>\n",
              "      <td>A</td>\n",
              "      <td>1.0</td>\n",
              "      <td>Bodily Force</td>\n",
              "      <td>Punches</td>\n",
              "      <td>NaN</td>\n",
              "      <td>Male</td>\n",
              "      <td>16.0</td>\n",
              "      <td>Tensed</td>\n",
              "      <td>04</td>\n",
              "      <td>Near - North</td>\n",
              "      <td>322402</td>\n",
              "      <td>80434.0</td>\n",
              "      <td>10077</td>\n",
              "      <td>15837</td>\n",
              "      <td>44.986990</td>\n",
              "      <td>-93.307013</td>\n",
              "      <td>-1.038689e+07</td>\n",
              "      <td>5.619474e+06</td>\n",
              "      <td>2020/06/11 08:18:32+00</td>\n",
              "      <td>2</td>\n",
              "    </tr>\n",
              "    <tr>\n",
              "      <th>2008-01-27 10:15:43+00:00</th>\n",
              "      <td>11494962</td>\n",
              "      <td>08-025965</td>\n",
              "      <td>2008/01/27 10:15:43+00</td>\n",
              "      <td>Suspicious Vehicle</td>\n",
              "      <td>No</td>\n",
              "      <td>NOINS</td>\n",
              "      <td>No</td>\n",
              "      <td>2</td>\n",
              "      <td>A</td>\n",
              "      <td>1.0</td>\n",
              "      <td>Bodily Force</td>\n",
              "      <td>Body Weight to Pin</td>\n",
              "      <td>White</td>\n",
              "      <td>Male</td>\n",
              "      <td>42.0</td>\n",
              "      <td>Unspecified</td>\n",
              "      <td>05</td>\n",
              "      <td>Lyndale</td>\n",
              "      <td>322402</td>\n",
              "      <td>55689.0</td>\n",
              "      <td>7628</td>\n",
              "      <td>19784</td>\n",
              "      <td>44.948355</td>\n",
              "      <td>-93.282185</td>\n",
              "      <td>-1.038413e+07</td>\n",
              "      <td>5.613395e+06</td>\n",
              "      <td>2020/06/11 08:18:32+00</td>\n",
              "      <td>3</td>\n",
              "    </tr>\n",
              "    <tr>\n",
              "      <th>2008-02-02 01:19:05+00:00</th>\n",
              "      <td>11494963</td>\n",
              "      <td>08-031711</td>\n",
              "      <td>2008/02/02 01:19:05+00</td>\n",
              "      <td>Poss Personal Injury Acc</td>\n",
              "      <td>Yes</td>\n",
              "      <td>DWI</td>\n",
              "      <td>Yes</td>\n",
              "      <td>1</td>\n",
              "      <td>A</td>\n",
              "      <td>1.0</td>\n",
              "      <td>Bodily Force</td>\n",
              "      <td>Joint Lock</td>\n",
              "      <td>Other / Mixed Race</td>\n",
              "      <td>Male</td>\n",
              "      <td>45.0</td>\n",
              "      <td>Tensed</td>\n",
              "      <td>02</td>\n",
              "      <td>Nicollet Island - East Bank</td>\n",
              "      <td>322402</td>\n",
              "      <td>48901.0</td>\n",
              "      <td>4858</td>\n",
              "      <td>19846</td>\n",
              "      <td>44.988867</td>\n",
              "      <td>-93.253396</td>\n",
              "      <td>-1.038092e+07</td>\n",
              "      <td>5.619769e+06</td>\n",
              "      <td>2020/06/11 08:18:32+00</td>\n",
              "      <td>4</td>\n",
              "    </tr>\n",
              "    <tr>\n",
              "      <th>2008-02-03 02:23:34+00:00</th>\n",
              "      <td>11494964</td>\n",
              "      <td>08-032898</td>\n",
              "      <td>2008/02/03 02:23:34+00</td>\n",
              "      <td>Motor Vehicle Chase</td>\n",
              "      <td>No</td>\n",
              "      <td>FLEE</td>\n",
              "      <td>Yes</td>\n",
              "      <td>1</td>\n",
              "      <td>A</td>\n",
              "      <td>1.0</td>\n",
              "      <td>Police K9 Bite</td>\n",
              "      <td>Off Lead</td>\n",
              "      <td>Black</td>\n",
              "      <td>Male</td>\n",
              "      <td>34.0</td>\n",
              "      <td>Fled in Vehicle</td>\n",
              "      <td>05</td>\n",
              "      <td>Steven's Square - Loring Heights</td>\n",
              "      <td>322402</td>\n",
              "      <td>55689.0</td>\n",
              "      <td>5110</td>\n",
              "      <td>21244</td>\n",
              "      <td>44.963321</td>\n",
              "      <td>-93.270211</td>\n",
              "      <td>-1.038279e+07</td>\n",
              "      <td>5.615749e+06</td>\n",
              "      <td>2020/06/11 08:18:32+00</td>\n",
              "      <td>5</td>\n",
              "    </tr>\n",
              "    <tr>\n",
              "      <th>...</th>\n",
              "      <td>...</td>\n",
              "      <td>...</td>\n",
              "      <td>...</td>\n",
              "      <td>...</td>\n",
              "      <td>...</td>\n",
              "      <td>...</td>\n",
              "      <td>...</td>\n",
              "      <td>...</td>\n",
              "      <td>...</td>\n",
              "      <td>...</td>\n",
              "      <td>...</td>\n",
              "      <td>...</td>\n",
              "      <td>...</td>\n",
              "      <td>...</td>\n",
              "      <td>...</td>\n",
              "      <td>...</td>\n",
              "      <td>...</td>\n",
              "      <td>...</td>\n",
              "      <td>...</td>\n",
              "      <td>...</td>\n",
              "      <td>...</td>\n",
              "      <td>...</td>\n",
              "      <td>...</td>\n",
              "      <td>...</td>\n",
              "      <td>...</td>\n",
              "      <td>...</td>\n",
              "      <td>...</td>\n",
              "      <td>...</td>\n",
              "    </tr>\n",
              "    <tr>\n",
              "      <th>2019-01-01 00:00:00+00:00</th>\n",
              "      <td>11525070</td>\n",
              "      <td>19-St. Anthony West</td>\n",
              "      <td>2019/01/01 00:00:00+00</td>\n",
              "      <td>NaN</td>\n",
              "      <td>NaN</td>\n",
              "      <td>NaN</td>\n",
              "      <td>NaN</td>\n",
              "      <td>0</td>\n",
              "      <td>NaN</td>\n",
              "      <td>0.0</td>\n",
              "      <td>NaN</td>\n",
              "      <td>0</td>\n",
              "      <td>NaN</td>\n",
              "      <td>NaN</td>\n",
              "      <td>NaN</td>\n",
              "      <td>NaN</td>\n",
              "      <td>NaN</td>\n",
              "      <td>St. Anthony West</td>\n",
              "      <td>301999</td>\n",
              "      <td>NaN</td>\n",
              "      <td>1661</td>\n",
              "      <td>0</td>\n",
              "      <td>0.000000</td>\n",
              "      <td>0.000000</td>\n",
              "      <td>0.000000e+00</td>\n",
              "      <td>0.000000e+00</td>\n",
              "      <td>2020/06/11 08:35:05+00</td>\n",
              "      <td>30111</td>\n",
              "    </tr>\n",
              "    <tr>\n",
              "      <th>2011-01-01 00:00:00+00:00</th>\n",
              "      <td>11525071</td>\n",
              "      <td>11-Powderhorn Park</td>\n",
              "      <td>2011/01/01 00:00:00+00</td>\n",
              "      <td>NaN</td>\n",
              "      <td>NaN</td>\n",
              "      <td>NaN</td>\n",
              "      <td>NaN</td>\n",
              "      <td>0</td>\n",
              "      <td>NaN</td>\n",
              "      <td>0.0</td>\n",
              "      <td>NaN</td>\n",
              "      <td>0</td>\n",
              "      <td>NaN</td>\n",
              "      <td>NaN</td>\n",
              "      <td>NaN</td>\n",
              "      <td>NaN</td>\n",
              "      <td>NaN</td>\n",
              "      <td>Powderhorn Park</td>\n",
              "      <td>313095</td>\n",
              "      <td>NaN</td>\n",
              "      <td>6575</td>\n",
              "      <td>0</td>\n",
              "      <td>0.000000</td>\n",
              "      <td>0.000000</td>\n",
              "      <td>0.000000e+00</td>\n",
              "      <td>0.000000e+00</td>\n",
              "      <td>2020/06/11 08:35:05+00</td>\n",
              "      <td>30112</td>\n",
              "    </tr>\n",
              "    <tr>\n",
              "      <th>2017-01-01 00:00:00+00:00</th>\n",
              "      <td>11525072</td>\n",
              "      <td>17-Steven's Square - Loring Heights</td>\n",
              "      <td>2017/01/01 00:00:00+00</td>\n",
              "      <td>NaN</td>\n",
              "      <td>NaN</td>\n",
              "      <td>NaN</td>\n",
              "      <td>NaN</td>\n",
              "      <td>0</td>\n",
              "      <td>NaN</td>\n",
              "      <td>0.0</td>\n",
              "      <td>NaN</td>\n",
              "      <td>0</td>\n",
              "      <td>NaN</td>\n",
              "      <td>NaN</td>\n",
              "      <td>NaN</td>\n",
              "      <td>NaN</td>\n",
              "      <td>NaN</td>\n",
              "      <td>Steven's Square - Loring Heights</td>\n",
              "      <td>380794</td>\n",
              "      <td>NaN</td>\n",
              "      <td>6288</td>\n",
              "      <td>0</td>\n",
              "      <td>0.000000</td>\n",
              "      <td>0.000000</td>\n",
              "      <td>0.000000e+00</td>\n",
              "      <td>0.000000e+00</td>\n",
              "      <td>2020/06/11 08:35:05+00</td>\n",
              "      <td>30113</td>\n",
              "    </tr>\n",
              "    <tr>\n",
              "      <th>2011-01-01 00:00:00+00:00</th>\n",
              "      <td>11525073</td>\n",
              "      <td>11-Page</td>\n",
              "      <td>2011/01/01 00:00:00+00</td>\n",
              "      <td>NaN</td>\n",
              "      <td>NaN</td>\n",
              "      <td>NaN</td>\n",
              "      <td>NaN</td>\n",
              "      <td>0</td>\n",
              "      <td>NaN</td>\n",
              "      <td>0.0</td>\n",
              "      <td>NaN</td>\n",
              "      <td>0</td>\n",
              "      <td>NaN</td>\n",
              "      <td>NaN</td>\n",
              "      <td>NaN</td>\n",
              "      <td>NaN</td>\n",
              "      <td>NaN</td>\n",
              "      <td>Page</td>\n",
              "      <td>313095</td>\n",
              "      <td>NaN</td>\n",
              "      <td>243</td>\n",
              "      <td>0</td>\n",
              "      <td>0.000000</td>\n",
              "      <td>0.000000</td>\n",
              "      <td>0.000000e+00</td>\n",
              "      <td>0.000000e+00</td>\n",
              "      <td>2020/06/11 08:35:05+00</td>\n",
              "      <td>30114</td>\n",
              "    </tr>\n",
              "    <tr>\n",
              "      <th>2018-01-01 00:00:00+00:00</th>\n",
              "      <td>11525074</td>\n",
              "      <td>18-Phillips West</td>\n",
              "      <td>2018/01/01 00:00:00+00</td>\n",
              "      <td>NaN</td>\n",
              "      <td>NaN</td>\n",
              "      <td>NaN</td>\n",
              "      <td>NaN</td>\n",
              "      <td>0</td>\n",
              "      <td>NaN</td>\n",
              "      <td>0.0</td>\n",
              "      <td>NaN</td>\n",
              "      <td>0</td>\n",
              "      <td>NaN</td>\n",
              "      <td>NaN</td>\n",
              "      <td>NaN</td>\n",
              "      <td>NaN</td>\n",
              "      <td>NaN</td>\n",
              "      <td>Phillips West</td>\n",
              "      <td>344333</td>\n",
              "      <td>NaN</td>\n",
              "      <td>5547</td>\n",
              "      <td>0</td>\n",
              "      <td>0.000000</td>\n",
              "      <td>0.000000</td>\n",
              "      <td>0.000000e+00</td>\n",
              "      <td>0.000000e+00</td>\n",
              "      <td>2020/06/11 08:35:05+00</td>\n",
              "      <td>30115</td>\n",
              "    </tr>\n",
              "  </tbody>\n",
              "</table>\n",
              "<p>30115 rows × 28 columns</p>\n",
              "</div>"
            ],
            "text/plain": [
              "                           PoliceUseOfForceID  ... OBJECTID\n",
              "date                                           ...         \n",
              "2008-01-05 17:08:18+00:00            11494960  ...        1\n",
              "2008-01-12 23:41:11+00:00            11494961  ...        2\n",
              "2008-01-27 10:15:43+00:00            11494962  ...        3\n",
              "2008-02-02 01:19:05+00:00            11494963  ...        4\n",
              "2008-02-03 02:23:34+00:00            11494964  ...        5\n",
              "...                                       ...  ...      ...\n",
              "2019-01-01 00:00:00+00:00            11525070  ...    30111\n",
              "2011-01-01 00:00:00+00:00            11525071  ...    30112\n",
              "2017-01-01 00:00:00+00:00            11525072  ...    30113\n",
              "2011-01-01 00:00:00+00:00            11525073  ...    30114\n",
              "2018-01-01 00:00:00+00:00            11525074  ...    30115\n",
              "\n",
              "[30115 rows x 28 columns]"
            ]
          },
          "metadata": {
            "tags": []
          },
          "execution_count": 65
        }
      ]
    },
    {
      "cell_type": "code",
      "metadata": {
        "id": "H8az3t828jvn",
        "colab_type": "code",
        "colab": {
          "base_uri": "https://localhost:8080/",
          "height": 762
        },
        "outputId": "428679f2-792d-4837-ee5c-80b1445ba4c9"
      },
      "source": [
        "df.fillna(0)"
      ],
      "execution_count": null,
      "outputs": [
        {
          "output_type": "execute_result",
          "data": {
            "text/html": [
              "<div>\n",
              "<style scoped>\n",
              "    .dataframe tbody tr th:only-of-type {\n",
              "        vertical-align: middle;\n",
              "    }\n",
              "\n",
              "    .dataframe tbody tr th {\n",
              "        vertical-align: top;\n",
              "    }\n",
              "\n",
              "    .dataframe thead th {\n",
              "        text-align: right;\n",
              "    }\n",
              "</style>\n",
              "<table border=\"1\" class=\"dataframe\">\n",
              "  <thead>\n",
              "    <tr style=\"text-align: right;\">\n",
              "      <th></th>\n",
              "      <th>PoliceUseOfForceID</th>\n",
              "      <th>CaseNumber</th>\n",
              "      <th>ResponseDate</th>\n",
              "      <th>Problem</th>\n",
              "      <th>Is911Call</th>\n",
              "      <th>PrimaryOffense</th>\n",
              "      <th>SubjectInjury</th>\n",
              "      <th>ForceReportNumber</th>\n",
              "      <th>SubjectRole</th>\n",
              "      <th>SubjectRoleNumber</th>\n",
              "      <th>ForceType</th>\n",
              "      <th>ForceTypeAction</th>\n",
              "      <th>Race</th>\n",
              "      <th>Sex</th>\n",
              "      <th>Age</th>\n",
              "      <th>TypeOfResistance</th>\n",
              "      <th>Precinct</th>\n",
              "      <th>Neighborhood</th>\n",
              "      <th>TotalCityCallsForYear</th>\n",
              "      <th>TotalPrecinctCallsForYear</th>\n",
              "      <th>TotalNeighborhoodCallsForYear</th>\n",
              "      <th>CenterGBSID</th>\n",
              "      <th>CenterLatitude</th>\n",
              "      <th>CenterLongitude</th>\n",
              "      <th>CenterX</th>\n",
              "      <th>CenterY</th>\n",
              "      <th>DateAdded</th>\n",
              "      <th>OBJECTID</th>\n",
              "    </tr>\n",
              "    <tr>\n",
              "      <th>date</th>\n",
              "      <th></th>\n",
              "      <th></th>\n",
              "      <th></th>\n",
              "      <th></th>\n",
              "      <th></th>\n",
              "      <th></th>\n",
              "      <th></th>\n",
              "      <th></th>\n",
              "      <th></th>\n",
              "      <th></th>\n",
              "      <th></th>\n",
              "      <th></th>\n",
              "      <th></th>\n",
              "      <th></th>\n",
              "      <th></th>\n",
              "      <th></th>\n",
              "      <th></th>\n",
              "      <th></th>\n",
              "      <th></th>\n",
              "      <th></th>\n",
              "      <th></th>\n",
              "      <th></th>\n",
              "      <th></th>\n",
              "      <th></th>\n",
              "      <th></th>\n",
              "      <th></th>\n",
              "      <th></th>\n",
              "      <th></th>\n",
              "    </tr>\n",
              "  </thead>\n",
              "  <tbody>\n",
              "    <tr>\n",
              "      <th>2008-01-05 17:08:18+00:00</th>\n",
              "      <td>11494960</td>\n",
              "      <td>08-005035</td>\n",
              "      <td>2008/01/05 17:08:18+00</td>\n",
              "      <td>Traffic Law Enforcement</td>\n",
              "      <td>No</td>\n",
              "      <td>FLEE</td>\n",
              "      <td>No</td>\n",
              "      <td>5</td>\n",
              "      <td>A</td>\n",
              "      <td>1.0</td>\n",
              "      <td>Bodily Force</td>\n",
              "      <td>Body Weight to Pin</td>\n",
              "      <td>Black</td>\n",
              "      <td>Male</td>\n",
              "      <td>23.0</td>\n",
              "      <td>Fled in Vehicle</td>\n",
              "      <td>04</td>\n",
              "      <td>Near - North</td>\n",
              "      <td>322402</td>\n",
              "      <td>80434.0</td>\n",
              "      <td>10077</td>\n",
              "      <td>16119</td>\n",
              "      <td>44.999153</td>\n",
              "      <td>-93.293351</td>\n",
              "      <td>-1.038537e+07</td>\n",
              "      <td>5.621388e+06</td>\n",
              "      <td>2020/06/11 08:18:32+00</td>\n",
              "      <td>1</td>\n",
              "    </tr>\n",
              "    <tr>\n",
              "      <th>2008-01-12 23:41:11+00:00</th>\n",
              "      <td>11494961</td>\n",
              "      <td>08-012559</td>\n",
              "      <td>2008/01/12 23:41:11+00</td>\n",
              "      <td>Domestic Abuse-In Progress</td>\n",
              "      <td>Yes</td>\n",
              "      <td>OBSTRU</td>\n",
              "      <td>Yes</td>\n",
              "      <td>1</td>\n",
              "      <td>A</td>\n",
              "      <td>1.0</td>\n",
              "      <td>Bodily Force</td>\n",
              "      <td>Punches</td>\n",
              "      <td>0</td>\n",
              "      <td>Male</td>\n",
              "      <td>16.0</td>\n",
              "      <td>Tensed</td>\n",
              "      <td>04</td>\n",
              "      <td>Near - North</td>\n",
              "      <td>322402</td>\n",
              "      <td>80434.0</td>\n",
              "      <td>10077</td>\n",
              "      <td>15837</td>\n",
              "      <td>44.986990</td>\n",
              "      <td>-93.307013</td>\n",
              "      <td>-1.038689e+07</td>\n",
              "      <td>5.619474e+06</td>\n",
              "      <td>2020/06/11 08:18:32+00</td>\n",
              "      <td>2</td>\n",
              "    </tr>\n",
              "    <tr>\n",
              "      <th>2008-01-27 10:15:43+00:00</th>\n",
              "      <td>11494962</td>\n",
              "      <td>08-025965</td>\n",
              "      <td>2008/01/27 10:15:43+00</td>\n",
              "      <td>Suspicious Vehicle</td>\n",
              "      <td>No</td>\n",
              "      <td>NOINS</td>\n",
              "      <td>No</td>\n",
              "      <td>2</td>\n",
              "      <td>A</td>\n",
              "      <td>1.0</td>\n",
              "      <td>Bodily Force</td>\n",
              "      <td>Body Weight to Pin</td>\n",
              "      <td>White</td>\n",
              "      <td>Male</td>\n",
              "      <td>42.0</td>\n",
              "      <td>Unspecified</td>\n",
              "      <td>05</td>\n",
              "      <td>Lyndale</td>\n",
              "      <td>322402</td>\n",
              "      <td>55689.0</td>\n",
              "      <td>7628</td>\n",
              "      <td>19784</td>\n",
              "      <td>44.948355</td>\n",
              "      <td>-93.282185</td>\n",
              "      <td>-1.038413e+07</td>\n",
              "      <td>5.613395e+06</td>\n",
              "      <td>2020/06/11 08:18:32+00</td>\n",
              "      <td>3</td>\n",
              "    </tr>\n",
              "    <tr>\n",
              "      <th>2008-02-02 01:19:05+00:00</th>\n",
              "      <td>11494963</td>\n",
              "      <td>08-031711</td>\n",
              "      <td>2008/02/02 01:19:05+00</td>\n",
              "      <td>Poss Personal Injury Acc</td>\n",
              "      <td>Yes</td>\n",
              "      <td>DWI</td>\n",
              "      <td>Yes</td>\n",
              "      <td>1</td>\n",
              "      <td>A</td>\n",
              "      <td>1.0</td>\n",
              "      <td>Bodily Force</td>\n",
              "      <td>Joint Lock</td>\n",
              "      <td>Other / Mixed Race</td>\n",
              "      <td>Male</td>\n",
              "      <td>45.0</td>\n",
              "      <td>Tensed</td>\n",
              "      <td>02</td>\n",
              "      <td>Nicollet Island - East Bank</td>\n",
              "      <td>322402</td>\n",
              "      <td>48901.0</td>\n",
              "      <td>4858</td>\n",
              "      <td>19846</td>\n",
              "      <td>44.988867</td>\n",
              "      <td>-93.253396</td>\n",
              "      <td>-1.038092e+07</td>\n",
              "      <td>5.619769e+06</td>\n",
              "      <td>2020/06/11 08:18:32+00</td>\n",
              "      <td>4</td>\n",
              "    </tr>\n",
              "    <tr>\n",
              "      <th>2008-02-03 02:23:34+00:00</th>\n",
              "      <td>11494964</td>\n",
              "      <td>08-032898</td>\n",
              "      <td>2008/02/03 02:23:34+00</td>\n",
              "      <td>Motor Vehicle Chase</td>\n",
              "      <td>No</td>\n",
              "      <td>FLEE</td>\n",
              "      <td>Yes</td>\n",
              "      <td>1</td>\n",
              "      <td>A</td>\n",
              "      <td>1.0</td>\n",
              "      <td>Police K9 Bite</td>\n",
              "      <td>Off Lead</td>\n",
              "      <td>Black</td>\n",
              "      <td>Male</td>\n",
              "      <td>34.0</td>\n",
              "      <td>Fled in Vehicle</td>\n",
              "      <td>05</td>\n",
              "      <td>Steven's Square - Loring Heights</td>\n",
              "      <td>322402</td>\n",
              "      <td>55689.0</td>\n",
              "      <td>5110</td>\n",
              "      <td>21244</td>\n",
              "      <td>44.963321</td>\n",
              "      <td>-93.270211</td>\n",
              "      <td>-1.038279e+07</td>\n",
              "      <td>5.615749e+06</td>\n",
              "      <td>2020/06/11 08:18:32+00</td>\n",
              "      <td>5</td>\n",
              "    </tr>\n",
              "    <tr>\n",
              "      <th>...</th>\n",
              "      <td>...</td>\n",
              "      <td>...</td>\n",
              "      <td>...</td>\n",
              "      <td>...</td>\n",
              "      <td>...</td>\n",
              "      <td>...</td>\n",
              "      <td>...</td>\n",
              "      <td>...</td>\n",
              "      <td>...</td>\n",
              "      <td>...</td>\n",
              "      <td>...</td>\n",
              "      <td>...</td>\n",
              "      <td>...</td>\n",
              "      <td>...</td>\n",
              "      <td>...</td>\n",
              "      <td>...</td>\n",
              "      <td>...</td>\n",
              "      <td>...</td>\n",
              "      <td>...</td>\n",
              "      <td>...</td>\n",
              "      <td>...</td>\n",
              "      <td>...</td>\n",
              "      <td>...</td>\n",
              "      <td>...</td>\n",
              "      <td>...</td>\n",
              "      <td>...</td>\n",
              "      <td>...</td>\n",
              "      <td>...</td>\n",
              "    </tr>\n",
              "    <tr>\n",
              "      <th>2019-01-01 00:00:00+00:00</th>\n",
              "      <td>11525070</td>\n",
              "      <td>19-St. Anthony West</td>\n",
              "      <td>2019/01/01 00:00:00+00</td>\n",
              "      <td>0</td>\n",
              "      <td>0</td>\n",
              "      <td>0</td>\n",
              "      <td>0</td>\n",
              "      <td>0</td>\n",
              "      <td>0</td>\n",
              "      <td>0.0</td>\n",
              "      <td>0</td>\n",
              "      <td>0</td>\n",
              "      <td>0</td>\n",
              "      <td>0</td>\n",
              "      <td>0.0</td>\n",
              "      <td>0</td>\n",
              "      <td>0</td>\n",
              "      <td>St. Anthony West</td>\n",
              "      <td>301999</td>\n",
              "      <td>0.0</td>\n",
              "      <td>1661</td>\n",
              "      <td>0</td>\n",
              "      <td>0.000000</td>\n",
              "      <td>0.000000</td>\n",
              "      <td>0.000000e+00</td>\n",
              "      <td>0.000000e+00</td>\n",
              "      <td>2020/06/11 08:35:05+00</td>\n",
              "      <td>30111</td>\n",
              "    </tr>\n",
              "    <tr>\n",
              "      <th>2011-01-01 00:00:00+00:00</th>\n",
              "      <td>11525071</td>\n",
              "      <td>11-Powderhorn Park</td>\n",
              "      <td>2011/01/01 00:00:00+00</td>\n",
              "      <td>0</td>\n",
              "      <td>0</td>\n",
              "      <td>0</td>\n",
              "      <td>0</td>\n",
              "      <td>0</td>\n",
              "      <td>0</td>\n",
              "      <td>0.0</td>\n",
              "      <td>0</td>\n",
              "      <td>0</td>\n",
              "      <td>0</td>\n",
              "      <td>0</td>\n",
              "      <td>0.0</td>\n",
              "      <td>0</td>\n",
              "      <td>0</td>\n",
              "      <td>Powderhorn Park</td>\n",
              "      <td>313095</td>\n",
              "      <td>0.0</td>\n",
              "      <td>6575</td>\n",
              "      <td>0</td>\n",
              "      <td>0.000000</td>\n",
              "      <td>0.000000</td>\n",
              "      <td>0.000000e+00</td>\n",
              "      <td>0.000000e+00</td>\n",
              "      <td>2020/06/11 08:35:05+00</td>\n",
              "      <td>30112</td>\n",
              "    </tr>\n",
              "    <tr>\n",
              "      <th>2017-01-01 00:00:00+00:00</th>\n",
              "      <td>11525072</td>\n",
              "      <td>17-Steven's Square - Loring Heights</td>\n",
              "      <td>2017/01/01 00:00:00+00</td>\n",
              "      <td>0</td>\n",
              "      <td>0</td>\n",
              "      <td>0</td>\n",
              "      <td>0</td>\n",
              "      <td>0</td>\n",
              "      <td>0</td>\n",
              "      <td>0.0</td>\n",
              "      <td>0</td>\n",
              "      <td>0</td>\n",
              "      <td>0</td>\n",
              "      <td>0</td>\n",
              "      <td>0.0</td>\n",
              "      <td>0</td>\n",
              "      <td>0</td>\n",
              "      <td>Steven's Square - Loring Heights</td>\n",
              "      <td>380794</td>\n",
              "      <td>0.0</td>\n",
              "      <td>6288</td>\n",
              "      <td>0</td>\n",
              "      <td>0.000000</td>\n",
              "      <td>0.000000</td>\n",
              "      <td>0.000000e+00</td>\n",
              "      <td>0.000000e+00</td>\n",
              "      <td>2020/06/11 08:35:05+00</td>\n",
              "      <td>30113</td>\n",
              "    </tr>\n",
              "    <tr>\n",
              "      <th>2011-01-01 00:00:00+00:00</th>\n",
              "      <td>11525073</td>\n",
              "      <td>11-Page</td>\n",
              "      <td>2011/01/01 00:00:00+00</td>\n",
              "      <td>0</td>\n",
              "      <td>0</td>\n",
              "      <td>0</td>\n",
              "      <td>0</td>\n",
              "      <td>0</td>\n",
              "      <td>0</td>\n",
              "      <td>0.0</td>\n",
              "      <td>0</td>\n",
              "      <td>0</td>\n",
              "      <td>0</td>\n",
              "      <td>0</td>\n",
              "      <td>0.0</td>\n",
              "      <td>0</td>\n",
              "      <td>0</td>\n",
              "      <td>Page</td>\n",
              "      <td>313095</td>\n",
              "      <td>0.0</td>\n",
              "      <td>243</td>\n",
              "      <td>0</td>\n",
              "      <td>0.000000</td>\n",
              "      <td>0.000000</td>\n",
              "      <td>0.000000e+00</td>\n",
              "      <td>0.000000e+00</td>\n",
              "      <td>2020/06/11 08:35:05+00</td>\n",
              "      <td>30114</td>\n",
              "    </tr>\n",
              "    <tr>\n",
              "      <th>2018-01-01 00:00:00+00:00</th>\n",
              "      <td>11525074</td>\n",
              "      <td>18-Phillips West</td>\n",
              "      <td>2018/01/01 00:00:00+00</td>\n",
              "      <td>0</td>\n",
              "      <td>0</td>\n",
              "      <td>0</td>\n",
              "      <td>0</td>\n",
              "      <td>0</td>\n",
              "      <td>0</td>\n",
              "      <td>0.0</td>\n",
              "      <td>0</td>\n",
              "      <td>0</td>\n",
              "      <td>0</td>\n",
              "      <td>0</td>\n",
              "      <td>0.0</td>\n",
              "      <td>0</td>\n",
              "      <td>0</td>\n",
              "      <td>Phillips West</td>\n",
              "      <td>344333</td>\n",
              "      <td>0.0</td>\n",
              "      <td>5547</td>\n",
              "      <td>0</td>\n",
              "      <td>0.000000</td>\n",
              "      <td>0.000000</td>\n",
              "      <td>0.000000e+00</td>\n",
              "      <td>0.000000e+00</td>\n",
              "      <td>2020/06/11 08:35:05+00</td>\n",
              "      <td>30115</td>\n",
              "    </tr>\n",
              "  </tbody>\n",
              "</table>\n",
              "<p>30115 rows × 28 columns</p>\n",
              "</div>"
            ],
            "text/plain": [
              "                           PoliceUseOfForceID  ... OBJECTID\n",
              "date                                           ...         \n",
              "2008-01-05 17:08:18+00:00            11494960  ...        1\n",
              "2008-01-12 23:41:11+00:00            11494961  ...        2\n",
              "2008-01-27 10:15:43+00:00            11494962  ...        3\n",
              "2008-02-02 01:19:05+00:00            11494963  ...        4\n",
              "2008-02-03 02:23:34+00:00            11494964  ...        5\n",
              "...                                       ...  ...      ...\n",
              "2019-01-01 00:00:00+00:00            11525070  ...    30111\n",
              "2011-01-01 00:00:00+00:00            11525071  ...    30112\n",
              "2017-01-01 00:00:00+00:00            11525072  ...    30113\n",
              "2011-01-01 00:00:00+00:00            11525073  ...    30114\n",
              "2018-01-01 00:00:00+00:00            11525074  ...    30115\n",
              "\n",
              "[30115 rows x 28 columns]"
            ]
          },
          "metadata": {
            "tags": []
          },
          "execution_count": 66
        }
      ]
    },
    {
      "cell_type": "code",
      "metadata": {
        "id": "c90qblmVCh2b",
        "colab_type": "code",
        "colab": {
          "base_uri": "https://localhost:8080/",
          "height": 68
        },
        "outputId": "bdd644a7-c6a8-4d53-aed2-3b9b114e35ee"
      },
      "source": [
        "df['Is911Call'].value_counts()"
      ],
      "execution_count": null,
      "outputs": [
        {
          "output_type": "execute_result",
          "data": {
            "text/plain": [
              "No     16299\n",
              "Yes    12681\n",
              "Name: Is911Call, dtype: int64"
            ]
          },
          "metadata": {
            "tags": []
          },
          "execution_count": 67
        }
      ]
    },
    {
      "cell_type": "code",
      "metadata": {
        "id": "rqcr1T11Bvip",
        "colab_type": "code",
        "colab": {
          "base_uri": "https://localhost:8080/",
          "height": 519
        },
        "outputId": "d08632de-f929-45e5-f122-35234f1f8f4c"
      },
      "source": [
        "df['Is911Call'].value_counts().plot(kind='bar', color='g',figsize= (10,8))\n",
        "plt.xlabel(\"Calls in 911 \")\n",
        "plt.ylabel(\"Frequency Yes of No\")\n",
        "plt.title(\"Times that 911 was called\")\n",
        "plt.legend()\n",
        "\n",
        "plt.savefig(\"/gdrive/My Drive/Colab Notebooks/911.png\",transparent= True,bbox_inches= 'tight')"
      ],
      "execution_count": null,
      "outputs": [
        {
          "output_type": "display_data",
          "data": {
            "image/png": "[encoded data removed]",
            "text/plain": [
              "<Figure size 720x576 with 1 Axes>"
            ]
          },
          "metadata": {
            "tags": [],
            "needs_background": "light"
          }
        }
      ]
    },
    {
      "cell_type": "code",
      "metadata": {
        "id": "c90bXNY89IyA",
        "colab_type": "code",
        "colab": {
          "base_uri": "https://localhost:8080/",
          "height": 290
        },
        "outputId": "2ac2af45-8a72-4aba-9a45-889bfe14bb18"
      },
      "source": [
        "df['Age'].groupby(by=df.index.year).mean()"
      ],
      "execution_count": null,
      "outputs": [
        {
          "output_type": "execute_result",
          "data": {
            "text/plain": [
              "date\n",
              "1970    17.000000\n",
              "2008    28.446125\n",
              "2009    28.222563\n",
              "2010    27.468314\n",
              "2011    27.865570\n",
              "2012    28.205150\n",
              "2013    28.867717\n",
              "2014    28.718896\n",
              "2015    27.320312\n",
              "2016    27.109396\n",
              "2017    27.734197\n",
              "2018    29.652717\n",
              "2019    30.880510\n",
              "2020    25.425714\n",
              "Name: Age, dtype: float64"
            ]
          },
          "metadata": {
            "tags": []
          },
          "execution_count": 70
        }
      ]
    },
    {
      "cell_type": "code",
      "metadata": {
        "id": "b40aHhsWB8AI",
        "colab_type": "code",
        "colab": {
          "base_uri": "https://localhost:8080/",
          "height": 513
        },
        "outputId": "35751159-478b-4e33-8993-116edc8d06a8"
      },
      "source": [
        "df['Age'].groupby(by=df.index.year).mean().plot(figsize= (10,8), color= 'b')\n",
        "plt.xlabel(\"Date \")\n",
        "plt.ylabel(\"Age\")\n",
        "plt.title(\"Mean Age of victims 1970-2020 \")\n",
        "plt.legend()\n",
        "plt.savefig(\"/gdrive/My Drive/Colab Notebooks/mean_Age_per_year.png\",transparent= True,bbox_inches= 'tight')"
      ],
      "execution_count": null,
      "outputs": [
        {
          "output_type": "display_data",
          "data": {
            "image/png": "[encoded data removed]",
            "text/plain": [
              "<Figure size 720x576 with 1 Axes>"
            ]
          },
          "metadata": {
            "tags": [],
            "needs_background": "light"
          }
        }
      ]
    },
    {
      "cell_type": "code",
      "metadata": {
        "id": "glPDyjEFRwuT",
        "colab_type": "code",
        "colab": {}
      },
      "source": [
        "#Import new csv File for the time period 2015-2020 across USA"
      ],
      "execution_count": null,
      "outputs": []
    },
    {
      "cell_type": "code",
      "metadata": {
        "id": "tCdZST-zS9Z_",
        "colab_type": "code",
        "colab": {
          "base_uri": "https://localhost:8080/",
          "height": 197
        },
        "outputId": "b79b4487-f1bb-4739-f352-b69c1646eb72"
      },
      "source": [
        "missing_values  = [\"???\", \"Unknown\", \"UNKNOWN\", \"N/A\",\"NaN\"]\n",
        "df1= pd.read_csv(\"/gdrive/My Drive/Colab Notebooks/FINAL ESSAY/Database of police shootings 2015-2020.csv\",na_values= missing_values)\n",
        "df1.head(5)"
      ],
      "execution_count": null,
      "outputs": [
        {
          "output_type": "execute_result",
          "data": {
            "text/html": [
              "<div>\n",
              "<style scoped>\n",
              "    .dataframe tbody tr th:only-of-type {\n",
              "        vertical-align: middle;\n",
              "    }\n",
              "\n",
              "    .dataframe tbody tr th {\n",
              "        vertical-align: top;\n",
              "    }\n",
              "\n",
              "    .dataframe thead th {\n",
              "        text-align: right;\n",
              "    }\n",
              "</style>\n",
              "<table border=\"1\" class=\"dataframe\">\n",
              "  <thead>\n",
              "    <tr style=\"text-align: right;\">\n",
              "      <th></th>\n",
              "      <th>Date</th>\n",
              "      <th>Name</th>\n",
              "      <th>Age</th>\n",
              "      <th>Gender</th>\n",
              "      <th>Race</th>\n",
              "      <th>State</th>\n",
              "      <th>*</th>\n",
              "      <th>Source</th>\n",
              "    </tr>\n",
              "  </thead>\n",
              "  <tbody>\n",
              "    <tr>\n",
              "      <th>0</th>\n",
              "      <td>2020-01-01</td>\n",
              "      <td>Derrick A. Elseth</td>\n",
              "      <td>24.0</td>\n",
              "      <td>M</td>\n",
              "      <td>W</td>\n",
              "      <td>VA</td>\n",
              "      <td>G</td>\n",
              "      <td>wric.com, nbc12.com</td>\n",
              "    </tr>\n",
              "    <tr>\n",
              "      <th>1</th>\n",
              "      <td>2020-01-01</td>\n",
              "      <td>Teddy James Maverick Varner</td>\n",
              "      <td>29.0</td>\n",
              "      <td>M</td>\n",
              "      <td>NaN</td>\n",
              "      <td>OR</td>\n",
              "      <td>G</td>\n",
              "      <td>kobi5.com, kdrv.com, kdrv.com</td>\n",
              "    </tr>\n",
              "    <tr>\n",
              "      <th>2</th>\n",
              "      <td>2020-01-01</td>\n",
              "      <td>Gerardo Antonio Conchas-Bustas</td>\n",
              "      <td>20.0</td>\n",
              "      <td>M</td>\n",
              "      <td>O</td>\n",
              "      <td>CO</td>\n",
              "      <td>K</td>\n",
              "      <td>denverpost.com, kdvr.com</td>\n",
              "    </tr>\n",
              "    <tr>\n",
              "      <th>3</th>\n",
              "      <td>2020-01-01</td>\n",
              "      <td>Gabriel Strickland</td>\n",
              "      <td>25.0</td>\n",
              "      <td>M</td>\n",
              "      <td>W</td>\n",
              "      <td>CA</td>\n",
              "      <td>T</td>\n",
              "      <td>sacbee.com</td>\n",
              "    </tr>\n",
              "    <tr>\n",
              "      <th>4</th>\n",
              "      <td>2020-01-02</td>\n",
              "      <td>Jeffery Dale Millsap</td>\n",
              "      <td>26.0</td>\n",
              "      <td>M</td>\n",
              "      <td>W</td>\n",
              "      <td>MO</td>\n",
              "      <td>G</td>\n",
              "      <td>kansascity.com, kctv5.com</td>\n",
              "    </tr>\n",
              "  </tbody>\n",
              "</table>\n",
              "</div>"
            ],
            "text/plain": [
              "         Date                            Name  ...  *                         Source\n",
              "0  2020-01-01               Derrick A. Elseth  ...  G            wric.com, nbc12.com\n",
              "1  2020-01-01     Teddy James Maverick Varner  ...  G  kobi5.com, kdrv.com, kdrv.com\n",
              "2  2020-01-01  Gerardo Antonio Conchas-Bustas  ...  K       denverpost.com, kdvr.com\n",
              "3  2020-01-01              Gabriel Strickland  ...  T                     sacbee.com\n",
              "4  2020-01-02            Jeffery Dale Millsap  ...  G      kansascity.com, kctv5.com\n",
              "\n",
              "[5 rows x 8 columns]"
            ]
          },
          "metadata": {
            "tags": []
          },
          "execution_count": 76
        }
      ]
    },
    {
      "cell_type": "code",
      "metadata": {
        "id": "jblmLf6ZTIQj",
        "colab_type": "code",
        "colab": {
          "base_uri": "https://localhost:8080/",
          "height": 170
        },
        "outputId": "2a9d78db-bf52-4f8d-d2ec-d97f61147d16"
      },
      "source": [
        "df1.dtypes"
      ],
      "execution_count": null,
      "outputs": [
        {
          "output_type": "execute_result",
          "data": {
            "text/plain": [
              "Date       object\n",
              "Name       object\n",
              "Age       float64\n",
              "Gender     object\n",
              "Race       object\n",
              "State      object\n",
              "*          object\n",
              "Source     object\n",
              "dtype: object"
            ]
          },
          "metadata": {
            "tags": []
          },
          "execution_count": 44
        }
      ]
    },
    {
      "cell_type": "code",
      "metadata": {
        "id": "tolywn6gWT3W",
        "colab_type": "code",
        "colab": {
          "base_uri": "https://localhost:8080/",
          "height": 153
        },
        "outputId": "5d6404e3-970f-4d59-fb63-74ee9198fc17"
      },
      "source": [
        "%%time\n",
        "pd.to_datetime(df1['Date']).head()"
      ],
      "execution_count": null,
      "outputs": [
        {
          "output_type": "stream",
          "text": [
            "CPU times: user 4.03 ms, sys: 1.01 ms, total: 5.05 ms\n",
            "Wall time: 4.96 ms\n"
          ],
          "name": "stdout"
        },
        {
          "output_type": "execute_result",
          "data": {
            "text/plain": [
              "0   2020-01-01\n",
              "1   2020-01-01\n",
              "2   2020-01-01\n",
              "3   2020-01-01\n",
              "4   2020-01-02\n",
              "Name: Date, dtype: datetime64[ns]"
            ]
          },
          "metadata": {
            "tags": []
          },
          "execution_count": 45
        }
      ]
    },
    {
      "cell_type": "code",
      "metadata": {
        "id": "YBT_oqLWWZ5d",
        "colab_type": "code",
        "colab": {
          "base_uri": "https://localhost:8080/",
          "height": 153
        },
        "outputId": "b42a2363-b121-4151-bb23-1bd9a06ceedb"
      },
      "source": [
        "%%time\n",
        "pd.to_datetime(df1['Date'], format='%Y/%m/%d').head() "
      ],
      "execution_count": null,
      "outputs": [
        {
          "output_type": "stream",
          "text": [
            "CPU times: user 4.98 ms, sys: 0 ns, total: 4.98 ms\n",
            "Wall time: 5.09 ms\n"
          ],
          "name": "stdout"
        },
        {
          "output_type": "execute_result",
          "data": {
            "text/plain": [
              "0   2020-01-01\n",
              "1   2020-01-01\n",
              "2   2020-01-01\n",
              "3   2020-01-01\n",
              "4   2020-01-02\n",
              "Name: Date, dtype: datetime64[ns]"
            ]
          },
          "metadata": {
            "tags": []
          },
          "execution_count": 46
        }
      ]
    },
    {
      "cell_type": "code",
      "metadata": {
        "id": "bkY6Fa_9WZ8C",
        "colab_type": "code",
        "colab": {
          "base_uri": "https://localhost:8080/",
          "height": 221
        },
        "outputId": "056b7e29-3044-4ac9-b361-6e7f2f51691a"
      },
      "source": [
        "df1['date'] = pd.to_datetime(df1['Date'], format='%Y/%m/%d')  #Add new column 'date' to dataframe as datetime \n",
        "df1['date']"
      ],
      "execution_count": null,
      "outputs": [
        {
          "output_type": "execute_result",
          "data": {
            "text/plain": [
              "0      2020-01-01\n",
              "1      2020-01-01\n",
              "2      2020-01-01\n",
              "3      2020-01-01\n",
              "4      2020-01-02\n",
              "          ...    \n",
              "5361   2015-12-29\n",
              "5362   2015-12-29\n",
              "5363   2015-12-30\n",
              "5364   2015-12-30\n",
              "5365   2015-12-31\n",
              "Name: date, Length: 5366, dtype: datetime64[ns]"
            ]
          },
          "metadata": {
            "tags": []
          },
          "execution_count": 47
        }
      ]
    },
    {
      "cell_type": "code",
      "metadata": {
        "id": "-PHYWm8iWld3",
        "colab_type": "code",
        "colab": {
          "base_uri": "https://localhost:8080/",
          "height": 187
        },
        "outputId": "83a7ac1e-e249-4f9b-adbe-43379be8da15"
      },
      "source": [
        "df1.dtypes"
      ],
      "execution_count": null,
      "outputs": [
        {
          "output_type": "execute_result",
          "data": {
            "text/plain": [
              "Date              object\n",
              "Name              object\n",
              "Age              float64\n",
              "Gender            object\n",
              "Race              object\n",
              "State             object\n",
              "*                 object\n",
              "Source            object\n",
              "date      datetime64[ns]\n",
              "dtype: object"
            ]
          },
          "metadata": {
            "tags": []
          },
          "execution_count": 48
        }
      ]
    },
    {
      "cell_type": "code",
      "metadata": {
        "id": "vZa5Wc5CWp_N",
        "colab_type": "code",
        "colab": {}
      },
      "source": [
        "#Set date as index\n",
        "df1.set_index(['date'] , inplace=True)"
      ],
      "execution_count": null,
      "outputs": []
    },
    {
      "cell_type": "code",
      "metadata": {
        "id": "_ADZAYQpWvMt",
        "colab_type": "code",
        "colab": {
          "base_uri": "https://localhost:8080/",
          "height": 450
        },
        "outputId": "e8b6957a-b3e4-4ac7-a250-bce5c298224a"
      },
      "source": [
        "df1"
      ],
      "execution_count": null,
      "outputs": [
        {
          "output_type": "execute_result",
          "data": {
            "text/html": [
              "<div>\n",
              "<style scoped>\n",
              "    .dataframe tbody tr th:only-of-type {\n",
              "        vertical-align: middle;\n",
              "    }\n",
              "\n",
              "    .dataframe tbody tr th {\n",
              "        vertical-align: top;\n",
              "    }\n",
              "\n",
              "    .dataframe thead th {\n",
              "        text-align: right;\n",
              "    }\n",
              "</style>\n",
              "<table border=\"1\" class=\"dataframe\">\n",
              "  <thead>\n",
              "    <tr style=\"text-align: right;\">\n",
              "      <th></th>\n",
              "      <th>Date</th>\n",
              "      <th>Name</th>\n",
              "      <th>Age</th>\n",
              "      <th>Gender</th>\n",
              "      <th>Race</th>\n",
              "      <th>State</th>\n",
              "      <th>*</th>\n",
              "      <th>Source</th>\n",
              "    </tr>\n",
              "    <tr>\n",
              "      <th>date</th>\n",
              "      <th></th>\n",
              "      <th></th>\n",
              "      <th></th>\n",
              "      <th></th>\n",
              "      <th></th>\n",
              "      <th></th>\n",
              "      <th></th>\n",
              "      <th></th>\n",
              "    </tr>\n",
              "  </thead>\n",
              "  <tbody>\n",
              "    <tr>\n",
              "      <th>2020-01-01</th>\n",
              "      <td>2020-01-01</td>\n",
              "      <td>Derrick A. Elseth</td>\n",
              "      <td>24.0</td>\n",
              "      <td>M</td>\n",
              "      <td>W</td>\n",
              "      <td>VA</td>\n",
              "      <td>G</td>\n",
              "      <td>wric.com, nbc12.com</td>\n",
              "    </tr>\n",
              "    <tr>\n",
              "      <th>2020-01-01</th>\n",
              "      <td>2020-01-01</td>\n",
              "      <td>Teddy James Maverick Varner</td>\n",
              "      <td>29.0</td>\n",
              "      <td>M</td>\n",
              "      <td>NaN</td>\n",
              "      <td>OR</td>\n",
              "      <td>G</td>\n",
              "      <td>kobi5.com, kdrv.com, kdrv.com</td>\n",
              "    </tr>\n",
              "    <tr>\n",
              "      <th>2020-01-01</th>\n",
              "      <td>2020-01-01</td>\n",
              "      <td>Gerardo Antonio Conchas-Bustas</td>\n",
              "      <td>20.0</td>\n",
              "      <td>M</td>\n",
              "      <td>O</td>\n",
              "      <td>CO</td>\n",
              "      <td>K</td>\n",
              "      <td>denverpost.com, kdvr.com</td>\n",
              "    </tr>\n",
              "    <tr>\n",
              "      <th>2020-01-01</th>\n",
              "      <td>2020-01-01</td>\n",
              "      <td>Gabriel Strickland</td>\n",
              "      <td>25.0</td>\n",
              "      <td>M</td>\n",
              "      <td>W</td>\n",
              "      <td>CA</td>\n",
              "      <td>T</td>\n",
              "      <td>sacbee.com</td>\n",
              "    </tr>\n",
              "    <tr>\n",
              "      <th>2020-01-02</th>\n",
              "      <td>2020-01-02</td>\n",
              "      <td>Jeffery Dale Millsap</td>\n",
              "      <td>26.0</td>\n",
              "      <td>M</td>\n",
              "      <td>W</td>\n",
              "      <td>MO</td>\n",
              "      <td>G</td>\n",
              "      <td>kansascity.com, kctv5.com</td>\n",
              "    </tr>\n",
              "    <tr>\n",
              "      <th>...</th>\n",
              "      <td>...</td>\n",
              "      <td>...</td>\n",
              "      <td>...</td>\n",
              "      <td>...</td>\n",
              "      <td>...</td>\n",
              "      <td>...</td>\n",
              "      <td>...</td>\n",
              "      <td>...</td>\n",
              "    </tr>\n",
              "    <tr>\n",
              "      <th>2015-12-29</th>\n",
              "      <td>2015-12-29</td>\n",
              "      <td>Siolosega Velega-Nuufolau</td>\n",
              "      <td>50.0</td>\n",
              "      <td>F</td>\n",
              "      <td>O</td>\n",
              "      <td>CA</td>\n",
              "      <td>K</td>\n",
              "      <td>fresnobee.com</td>\n",
              "    </tr>\n",
              "    <tr>\n",
              "      <th>2015-12-29</th>\n",
              "      <td>2015-12-29</td>\n",
              "      <td>Tien Hua</td>\n",
              "      <td>NaN</td>\n",
              "      <td>M</td>\n",
              "      <td>A</td>\n",
              "      <td>CA</td>\n",
              "      <td>O</td>\n",
              "      <td>nbclosangeles.com, abc7.com</td>\n",
              "    </tr>\n",
              "    <tr>\n",
              "      <th>2015-12-30</th>\n",
              "      <td>2015-12-30</td>\n",
              "      <td>Fred Perez</td>\n",
              "      <td>55.0</td>\n",
              "      <td>M</td>\n",
              "      <td>H</td>\n",
              "      <td>CA</td>\n",
              "      <td>K</td>\n",
              "      <td>abc30.com, yourcentralvalley.com</td>\n",
              "    </tr>\n",
              "    <tr>\n",
              "      <th>2015-12-30</th>\n",
              "      <td>2015-12-30</td>\n",
              "      <td>John Randell Veach</td>\n",
              "      <td>39.0</td>\n",
              "      <td>M</td>\n",
              "      <td>NaN</td>\n",
              "      <td>WY</td>\n",
              "      <td>U</td>\n",
              "      <td>rawlinstimes.com</td>\n",
              "    </tr>\n",
              "    <tr>\n",
              "      <th>2015-12-31</th>\n",
              "      <td>2015-12-31</td>\n",
              "      <td>Keith Childress</td>\n",
              "      <td>23.0</td>\n",
              "      <td>M</td>\n",
              "      <td>B</td>\n",
              "      <td>NV</td>\n",
              "      <td>N</td>\n",
              "      <td>lasvegassun.com, lasvegassun.com</td>\n",
              "    </tr>\n",
              "  </tbody>\n",
              "</table>\n",
              "<p>5366 rows × 8 columns</p>\n",
              "</div>"
            ],
            "text/plain": [
              "                  Date  ...                            Source\n",
              "date                    ...                                  \n",
              "2020-01-01  2020-01-01  ...               wric.com, nbc12.com\n",
              "2020-01-01  2020-01-01  ...     kobi5.com, kdrv.com, kdrv.com\n",
              "2020-01-01  2020-01-01  ...          denverpost.com, kdvr.com\n",
              "2020-01-01  2020-01-01  ...                        sacbee.com\n",
              "2020-01-02  2020-01-02  ...         kansascity.com, kctv5.com\n",
              "...                ...  ...                               ...\n",
              "2015-12-29  2015-12-29  ...                     fresnobee.com\n",
              "2015-12-29  2015-12-29  ...       nbclosangeles.com, abc7.com\n",
              "2015-12-30  2015-12-30  ...  abc30.com, yourcentralvalley.com\n",
              "2015-12-30  2015-12-30  ...                  rawlinstimes.com\n",
              "2015-12-31  2015-12-31  ...  lasvegassun.com, lasvegassun.com\n",
              "\n",
              "[5366 rows x 8 columns]"
            ]
          },
          "metadata": {
            "tags": []
          },
          "execution_count": 50
        }
      ]
    },
    {
      "cell_type": "code",
      "metadata": {
        "id": "0WfSX96vTqfc",
        "colab_type": "code",
        "colab": {
          "base_uri": "https://localhost:8080/",
          "height": 514
        },
        "outputId": "7dd9c1a0-2191-4b03-f870-73e10e70276d"
      },
      "source": [
        "#Mean of age of people since 2015 \n",
        "\n",
        "df1['Age'].resample('A').mean().plot(color='r',figsize=(10,8))\n",
        "\n"
      ],
      "execution_count": null,
      "outputs": [
        {
          "output_type": "execute_result",
          "data": {
            "text/plain": [
              "<matplotlib.axes._subplots.AxesSubplot at 0x7ff576f6a0f0>"
            ]
          },
          "metadata": {
            "tags": []
          },
          "execution_count": 51
        },
        {
          "output_type": "display_data",
          "data": {
            "image/png": "[encoded data removed]",
            "text/plain": [
              "<Figure size 720x576 with 1 Axes>"
            ]
          },
          "metadata": {
            "tags": [],
            "needs_background": "light"
          }
        }
      ]
    }
  ]
}